{
 "cells": [
  {
   "cell_type": "code",
   "id": "initial_id",
   "metadata": {
    "collapsed": true,
    "ExecuteTime": {
     "end_time": "2025-08-28T00:22:28.232649Z",
     "start_time": "2025-08-28T00:22:24.034084Z"
    }
   },
   "source": [
    "from dotenv import load_dotenv\n",
    "load_dotenv()\n",
    "\n",
    "from crewai import LLM\n",
    "\n",
    "llm = LLM(\n",
    "    model=\"gemini/gemini-2.0-flash\",\n",
    "    temperature=0.1\n",
    ")"
   ],
   "outputs": [],
   "execution_count": 1
  },
  {
   "metadata": {
    "ExecuteTime": {
     "end_time": "2025-08-28T00:22:33.046321Z",
     "start_time": "2025-08-28T00:22:29.262265Z"
    }
   },
   "cell_type": "code",
   "source": [
    "from crewai import Agent, Task, Crew\n",
    "from crewai_tools import SerperDevTool\n",
    "\n",
    "research_agent = Agent(\n",
    "    role=\"Research Specialist\",\n",
    "    goal=\"Research interesting facts about the topic: {topic}\",\n",
    "    backstory=\"You are an expert at finding relevant and factual data.\",\n",
    "    tools=[SerperDevTool()],\n",
    "    verbose=True,\n",
    "    llm=llm\n",
    ")\n",
    "\n",
    "writer_agent = Agent(\n",
    "    role=\"Creative Writer\",\n",
    "    goal=\"Write a short blog summary using the research\",\n",
    "    backstory=\"You are skilled at writing engaging summaries based on provided content.\",\n",
    "    llm=llm,\n",
    "    verbose=True,\n",
    ")"
   ],
   "id": "aef68cba16e63d46",
   "outputs": [
    {
     "name": "stderr",
     "output_type": "stream",
     "text": [
      "/Users/ayushbasist/crewproject/.venv/lib/python3.10/site-packages/pydantic/_internal/_config.py:323: PydanticDeprecatedSince20: Support for class-based `config` is deprecated, use ConfigDict instead. Deprecated in Pydantic V2.0 to be removed in V3.0. See Pydantic V2 Migration Guide at https://errors.pydantic.dev/2.11/migration/\n",
      "  warnings.warn(DEPRECATION_MESSAGE, DeprecationWarning)\n"
     ]
    }
   ],
   "execution_count": 2
  },
  {
   "metadata": {
    "ExecuteTime": {
     "end_time": "2025-08-28T00:22:33.090263Z",
     "start_time": "2025-08-28T00:22:33.084569Z"
    }
   },
   "cell_type": "code",
   "source": [
    "task1 = Task(\n",
    "    description=\"Find 3-5 interesting and recent facts about {topic} as of year 2025.\",\n",
    "    expected_output=\"A bullet list of 3-5 facts\",\n",
    "    agent=research_agent,\n",
    ")\n",
    "\n",
    "task2 = Task(\n",
    "    description=\"Write a 100-word blog post summary about {topic} using the facts from the research.\",\n",
    "    expected_output=\"A blog post summary\",\n",
    "    agent=writer_agent,\n",
    "    context=[task1],\n",
    ")"
   ],
   "id": "f1656c6b89c8282e",
   "outputs": [],
   "execution_count": 3
  },
  {
   "metadata": {
    "ExecuteTime": {
     "end_time": "2025-08-28T00:22:46.018459Z",
     "start_time": "2025-08-28T00:22:33.127639Z"
    }
   },
   "cell_type": "code",
   "source": [
    "crew = Crew(\n",
    "    agents=[research_agent, writer_agent],\n",
    "    tasks=[task1, task2],\n",
    "    verbose=True,\n",
    ")\n",
    "\n",
    "crew.kickoff(inputs={\"topic\": \"The future of electrical vehicles\"})"
   ],
   "id": "7c972bb6f3d97e5b",
   "outputs": [
    {
     "data": {
      "text/plain": [
       "\u001B[36m╭─\u001B[0m\u001B[36m───────────────────────────────────────────\u001B[0m\u001B[36m Crew Execution Started \u001B[0m\u001B[36m────────────────────────────────────────────\u001B[0m\u001B[36m─╮\u001B[0m\n",
       "\u001B[36m│\u001B[0m                                                                                                                 \u001B[36m│\u001B[0m\n",
       "\u001B[36m│\u001B[0m  \u001B[1;36mCrew Execution Started\u001B[0m                                                                                         \u001B[36m│\u001B[0m\n",
       "\u001B[36m│\u001B[0m  \u001B[37mName: \u001B[0m\u001B[36mcrew\u001B[0m                                                                                                     \u001B[36m│\u001B[0m\n",
       "\u001B[36m│\u001B[0m  \u001B[37mID: \u001B[0m\u001B[36m3a57ffbd-f74d-4d29-9091-5dfb4918d5bc\u001B[0m                                                                       \u001B[36m│\u001B[0m\n",
       "\u001B[36m│\u001B[0m  \u001B[37mTool Args: \u001B[0m                                                                                                    \u001B[36m│\u001B[0m\n",
       "\u001B[36m│\u001B[0m                                                                                                                 \u001B[36m│\u001B[0m\n",
       "\u001B[36m│\u001B[0m                                                                                                                 \u001B[36m│\u001B[0m\n",
       "\u001B[36m╰─────────────────────────────────────────────────────────────────────────────────────────────────────────────────╯\u001B[0m\n"
      ],
      "text/html": [
       "<pre style=\"white-space:pre;overflow-x:auto;line-height:normal;font-family:Menlo,'DejaVu Sans Mono',consolas,'Courier New',monospace\"><span style=\"color: #008080; text-decoration-color: #008080\">╭──────────────────────────────────────────── Crew Execution Started ─────────────────────────────────────────────╮</span>\n",
       "<span style=\"color: #008080; text-decoration-color: #008080\">│</span>                                                                                                                 <span style=\"color: #008080; text-decoration-color: #008080\">│</span>\n",
       "<span style=\"color: #008080; text-decoration-color: #008080\">│</span>  <span style=\"color: #008080; text-decoration-color: #008080; font-weight: bold\">Crew Execution Started</span>                                                                                         <span style=\"color: #008080; text-decoration-color: #008080\">│</span>\n",
       "<span style=\"color: #008080; text-decoration-color: #008080\">│</span>  <span style=\"color: #c0c0c0; text-decoration-color: #c0c0c0\">Name: </span><span style=\"color: #008080; text-decoration-color: #008080\">crew</span>                                                                                                     <span style=\"color: #008080; text-decoration-color: #008080\">│</span>\n",
       "<span style=\"color: #008080; text-decoration-color: #008080\">│</span>  <span style=\"color: #c0c0c0; text-decoration-color: #c0c0c0\">ID: </span><span style=\"color: #008080; text-decoration-color: #008080\">3a57ffbd-f74d-4d29-9091-5dfb4918d5bc</span>                                                                       <span style=\"color: #008080; text-decoration-color: #008080\">│</span>\n",
       "<span style=\"color: #008080; text-decoration-color: #008080\">│</span>  <span style=\"color: #c0c0c0; text-decoration-color: #c0c0c0\">Tool Args: </span>                                                                                                    <span style=\"color: #008080; text-decoration-color: #008080\">│</span>\n",
       "<span style=\"color: #008080; text-decoration-color: #008080\">│</span>                                                                                                                 <span style=\"color: #008080; text-decoration-color: #008080\">│</span>\n",
       "<span style=\"color: #008080; text-decoration-color: #008080\">│</span>                                                                                                                 <span style=\"color: #008080; text-decoration-color: #008080\">│</span>\n",
       "<span style=\"color: #008080; text-decoration-color: #008080\">╰─────────────────────────────────────────────────────────────────────────────────────────────────────────────────╯</span>\n",
       "</pre>\n"
      ]
     },
     "metadata": {},
     "output_type": "display_data"
    },
    {
     "data": {
      "text/plain": [
       "\n"
      ],
      "text/html": [
       "<pre style=\"white-space:pre;overflow-x:auto;line-height:normal;font-family:Menlo,'DejaVu Sans Mono',consolas,'Courier New',monospace\">\n",
       "</pre>\n"
      ]
     },
     "metadata": {},
     "output_type": "display_data"
    },
    {
     "data": {
      "text/plain": [],
      "text/html": [
       "<pre style=\"white-space:pre;overflow-x:auto;line-height:normal;font-family:Menlo,'DejaVu Sans Mono',consolas,'Courier New',monospace\"></pre>\n"
      ]
     },
     "metadata": {},
     "output_type": "display_data"
    },
    {
     "data": {
      "text/plain": [
       "\u001B[35m╭─\u001B[0m\u001B[35m──────────────────────────────────────────────\u001B[0m\u001B[35m 🤖 Agent Started \u001B[0m\u001B[35m───────────────────────────────────────────────\u001B[0m\u001B[35m─╮\u001B[0m\n",
       "\u001B[35m│\u001B[0m                                                                                                                 \u001B[35m│\u001B[0m\n",
       "\u001B[35m│\u001B[0m  \u001B[37mAgent: \u001B[0m\u001B[1;92mResearch Specialist\u001B[0m                                                                                     \u001B[35m│\u001B[0m\n",
       "\u001B[35m│\u001B[0m                                                                                                                 \u001B[35m│\u001B[0m\n",
       "\u001B[35m│\u001B[0m  \u001B[37mTask: \u001B[0m\u001B[92mFind 3-5 interesting and recent facts about The future of electrical vehicles as of year 2025.\u001B[0m           \u001B[35m│\u001B[0m\n",
       "\u001B[35m│\u001B[0m                                                                                                                 \u001B[35m│\u001B[0m\n",
       "\u001B[35m╰─────────────────────────────────────────────────────────────────────────────────────────────────────────────────╯\u001B[0m\n"
      ],
      "text/html": [
       "<pre style=\"white-space:pre;overflow-x:auto;line-height:normal;font-family:Menlo,'DejaVu Sans Mono',consolas,'Courier New',monospace\"><span style=\"color: #800080; text-decoration-color: #800080\">╭─────────────────────────────────────────────── 🤖 Agent Started ────────────────────────────────────────────────╮</span>\n",
       "<span style=\"color: #800080; text-decoration-color: #800080\">│</span>                                                                                                                 <span style=\"color: #800080; text-decoration-color: #800080\">│</span>\n",
       "<span style=\"color: #800080; text-decoration-color: #800080\">│</span>  <span style=\"color: #c0c0c0; text-decoration-color: #c0c0c0\">Agent: </span><span style=\"color: #00ff00; text-decoration-color: #00ff00; font-weight: bold\">Research Specialist</span>                                                                                     <span style=\"color: #800080; text-decoration-color: #800080\">│</span>\n",
       "<span style=\"color: #800080; text-decoration-color: #800080\">│</span>                                                                                                                 <span style=\"color: #800080; text-decoration-color: #800080\">│</span>\n",
       "<span style=\"color: #800080; text-decoration-color: #800080\">│</span>  <span style=\"color: #c0c0c0; text-decoration-color: #c0c0c0\">Task: </span><span style=\"color: #00ff00; text-decoration-color: #00ff00\">Find 3-5 interesting and recent facts about The future of electrical vehicles as of year 2025.</span>           <span style=\"color: #800080; text-decoration-color: #800080\">│</span>\n",
       "<span style=\"color: #800080; text-decoration-color: #800080\">│</span>                                                                                                                 <span style=\"color: #800080; text-decoration-color: #800080\">│</span>\n",
       "<span style=\"color: #800080; text-decoration-color: #800080\">╰─────────────────────────────────────────────────────────────────────────────────────────────────────────────────╯</span>\n",
       "</pre>\n"
      ]
     },
     "metadata": {},
     "output_type": "display_data"
    },
    {
     "data": {
      "text/plain": [
       "\n"
      ],
      "text/html": [
       "<pre style=\"white-space:pre;overflow-x:auto;line-height:normal;font-family:Menlo,'DejaVu Sans Mono',consolas,'Courier New',monospace\">\n",
       "</pre>\n"
      ]
     },
     "metadata": {},
     "output_type": "display_data"
    },
    {
     "data": {
      "text/plain": [
       "/Users/ayushbasist/crewproject/.venv/lib/python3.10/site-packages/rich/live.py:231: UserWarning: install \n",
       "\"ipywidgets\" for Jupyter support\n",
       "  warnings.warn('install \"ipywidgets\" for Jupyter support')\n"
      ],
      "text/html": [
       "<pre style=\"white-space:pre;overflow-x:auto;line-height:normal;font-family:Menlo,'DejaVu Sans Mono',consolas,'Courier New',monospace\">/Users/ayushbasist/crewproject/.venv/lib/python3.10/site-packages/rich/live.py:231: UserWarning: install \n",
       "\"ipywidgets\" for Jupyter support\n",
       "  warnings.warn('install \"ipywidgets\" for Jupyter support')\n",
       "</pre>\n"
      ]
     },
     "metadata": {},
     "output_type": "display_data"
    },
    {
     "data": {
      "text/plain": [],
      "text/html": [
       "<pre style=\"white-space:pre;overflow-x:auto;line-height:normal;font-family:Menlo,'DejaVu Sans Mono',consolas,'Courier New',monospace\"></pre>\n"
      ]
     },
     "metadata": {},
     "output_type": "display_data"
    },
    {
     "data": {
      "text/plain": [
       "\u001B[35m╭─\u001B[0m\u001B[35m───────────────────────────────────────────\u001B[0m\u001B[35m 🔧 Agent Tool Execution \u001B[0m\u001B[35m───────────────────────────────────────────\u001B[0m\u001B[35m─╮\u001B[0m\n",
       "\u001B[35m│\u001B[0m                                                                                                                 \u001B[35m│\u001B[0m\n",
       "\u001B[35m│\u001B[0m  \u001B[37mAgent: \u001B[0m\u001B[1;92mResearch Specialist\u001B[0m                                                                                     \u001B[35m│\u001B[0m\n",
       "\u001B[35m│\u001B[0m                                                                                                                 \u001B[35m│\u001B[0m\n",
       "\u001B[35m│\u001B[0m  \u001B[37mThought: \u001B[0m\u001B[92mI need to find some interesting and recent facts about the future of electric vehicles as of 2025. I\u001B[0m  \u001B[35m│\u001B[0m\n",
       "\u001B[35m│\u001B[0m  \u001B[92mwill use the search tool to find relevant information. I will focus on facts that are forward-looking and \u001B[0m     \u001B[35m│\u001B[0m\n",
       "\u001B[35m│\u001B[0m  \u001B[92mrelevant to the year 2025.\u001B[0m                                                                                     \u001B[35m│\u001B[0m\n",
       "\u001B[35m│\u001B[0m                                                                                                                 \u001B[35m│\u001B[0m\n",
       "\u001B[35m│\u001B[0m  \u001B[37mUsing Tool: \u001B[0m\u001B[1;92mSearch the internet with Serper\u001B[0m                                                                    \u001B[35m│\u001B[0m\n",
       "\u001B[35m│\u001B[0m                                                                                                                 \u001B[35m│\u001B[0m\n",
       "\u001B[35m╰─────────────────────────────────────────────────────────────────────────────────────────────────────────────────╯\u001B[0m\n"
      ],
      "text/html": [
       "<pre style=\"white-space:pre;overflow-x:auto;line-height:normal;font-family:Menlo,'DejaVu Sans Mono',consolas,'Courier New',monospace\"><span style=\"color: #800080; text-decoration-color: #800080\">╭──────────────────────────────────────────── 🔧 Agent Tool Execution ────────────────────────────────────────────╮</span>\n",
       "<span style=\"color: #800080; text-decoration-color: #800080\">│</span>                                                                                                                 <span style=\"color: #800080; text-decoration-color: #800080\">│</span>\n",
       "<span style=\"color: #800080; text-decoration-color: #800080\">│</span>  <span style=\"color: #c0c0c0; text-decoration-color: #c0c0c0\">Agent: </span><span style=\"color: #00ff00; text-decoration-color: #00ff00; font-weight: bold\">Research Specialist</span>                                                                                     <span style=\"color: #800080; text-decoration-color: #800080\">│</span>\n",
       "<span style=\"color: #800080; text-decoration-color: #800080\">│</span>                                                                                                                 <span style=\"color: #800080; text-decoration-color: #800080\">│</span>\n",
       "<span style=\"color: #800080; text-decoration-color: #800080\">│</span>  <span style=\"color: #c0c0c0; text-decoration-color: #c0c0c0\">Thought: </span><span style=\"color: #00ff00; text-decoration-color: #00ff00\">I need to find some interesting and recent facts about the future of electric vehicles as of 2025. I</span>  <span style=\"color: #800080; text-decoration-color: #800080\">│</span>\n",
       "<span style=\"color: #800080; text-decoration-color: #800080\">│</span>  <span style=\"color: #00ff00; text-decoration-color: #00ff00\">will use the search tool to find relevant information. I will focus on facts that are forward-looking and </span>     <span style=\"color: #800080; text-decoration-color: #800080\">│</span>\n",
       "<span style=\"color: #800080; text-decoration-color: #800080\">│</span>  <span style=\"color: #00ff00; text-decoration-color: #00ff00\">relevant to the year 2025.</span>                                                                                     <span style=\"color: #800080; text-decoration-color: #800080\">│</span>\n",
       "<span style=\"color: #800080; text-decoration-color: #800080\">│</span>                                                                                                                 <span style=\"color: #800080; text-decoration-color: #800080\">│</span>\n",
       "<span style=\"color: #800080; text-decoration-color: #800080\">│</span>  <span style=\"color: #c0c0c0; text-decoration-color: #c0c0c0\">Using Tool: </span><span style=\"color: #00ff00; text-decoration-color: #00ff00; font-weight: bold\">Search the internet with Serper</span>                                                                    <span style=\"color: #800080; text-decoration-color: #800080\">│</span>\n",
       "<span style=\"color: #800080; text-decoration-color: #800080\">│</span>                                                                                                                 <span style=\"color: #800080; text-decoration-color: #800080\">│</span>\n",
       "<span style=\"color: #800080; text-decoration-color: #800080\">╰─────────────────────────────────────────────────────────────────────────────────────────────────────────────────╯</span>\n",
       "</pre>\n"
      ]
     },
     "metadata": {},
     "output_type": "display_data"
    },
    {
     "data": {
      "text/plain": [
       "\u001B[34m╭─\u001B[0m\u001B[34m─────────────────────────────────────────────────\u001B[0m\u001B[34m Tool Input \u001B[0m\u001B[34m──────────────────────────────────────────────────\u001B[0m\u001B[34m─╮\u001B[0m\n",
       "\u001B[34m│\u001B[0m                                                                                                                 \u001B[34m│\u001B[0m\n",
       "\u001B[34m│\u001B[0m  \u001B[38;2;230;219;116;49m\"{\\\"search_query\\\": \\\"future of electric vehicles 2025 facts\\\"}\"\u001B[0m                                               \u001B[34m│\u001B[0m\n",
       "\u001B[34m│\u001B[0m                                                                                                                 \u001B[34m│\u001B[0m\n",
       "\u001B[34m╰─────────────────────────────────────────────────────────────────────────────────────────────────────────────────╯\u001B[0m\n"
      ],
      "text/html": [
       "<pre style=\"white-space:pre;overflow-x:auto;line-height:normal;font-family:Menlo,'DejaVu Sans Mono',consolas,'Courier New',monospace\"><span style=\"color: #000080; text-decoration-color: #000080\">╭────────────────────────────────────────────────── Tool Input ───────────────────────────────────────────────────╮</span>\n",
       "<span style=\"color: #000080; text-decoration-color: #000080\">│</span>                                                                                                                 <span style=\"color: #000080; text-decoration-color: #000080\">│</span>\n",
       "<span style=\"color: #000080; text-decoration-color: #000080\">│</span>  <span style=\"color: #e6db74; text-decoration-color: #e6db74; background-color: #ffffff\">\"{\\\"search_query\\\": \\\"future of electric vehicles 2025 facts\\\"}\"</span>                                               <span style=\"color: #000080; text-decoration-color: #000080\">│</span>\n",
       "<span style=\"color: #000080; text-decoration-color: #000080\">│</span>                                                                                                                 <span style=\"color: #000080; text-decoration-color: #000080\">│</span>\n",
       "<span style=\"color: #000080; text-decoration-color: #000080\">╰─────────────────────────────────────────────────────────────────────────────────────────────────────────────────╯</span>\n",
       "</pre>\n"
      ]
     },
     "metadata": {},
     "output_type": "display_data"
    },
    {
     "data": {
      "text/plain": [
       "\u001B[32m╭─\u001B[0m\u001B[32m─────────────────────────────────────────────────\u001B[0m\u001B[32m Tool Output \u001B[0m\u001B[32m─────────────────────────────────────────────────\u001B[0m\u001B[32m─╮\u001B[0m\n",
       "\u001B[32m│\u001B[0m                                                                                                                 \u001B[32m│\u001B[0m\n",
       "\u001B[32m│\u001B[0m  \u001B[92m{'searchParameters': {'q': 'future of electric vehicles 2025 facts', 'type': 'search', 'num': 10, 'engine': \u001B[0m   \u001B[32m│\u001B[0m\n",
       "\u001B[32m│\u001B[0m  \u001B[92m'google'}, 'organic': [{'title': 'Trends in electric car markets – Global EV Outlook 2025 - IEA', 'link': \u001B[0m     \u001B[32m│\u001B[0m\n",
       "\u001B[32m│\u001B[0m  \u001B[92m'https://www.iea.org/reports/global-ev-outlook-2025/trends-in-electric-car-markets-2', 'snippet': 'Across the\u001B[0m  \u001B[32m│\u001B[0m\n",
       "\u001B[32m│\u001B[0m  \u001B[92mrest of the world, electric car sales are expected to grow by over 30% to around 1.8 million . This would \u001B[0m     \u001B[32m│\u001B[0m\n",
       "\u001B[32m│\u001B[0m  \u001B[92mmean electric cars account for 6% of all car sales outside of the three major EV markets in 2025, up from 5% \u001B[0m  \u001B[32m│\u001B[0m\n",
       "\u001B[32m│\u001B[0m  \u001B[92min 2024.', 'position': 1}, {'title': 'Global EV Outlook 2025 – Analysis - IEA', 'link': \u001B[0m                       \u001B[32m│\u001B[0m\n",
       "\u001B[32m│\u001B[0m  \u001B[92m'https://www.iea.org/reports/global-ev-outlook-2025', 'snippet': 'The Global EV Outlook is an annual \u001B[0m          \u001B[32m│\u001B[0m\n",
       "\u001B[32m│\u001B[0m  \u001B[92mpublication that reports on recent developments in electric mobility around the world.', 'position': 2, \u001B[0m       \u001B[32m│\u001B[0m\n",
       "\u001B[32m│\u001B[0m  \u001B[92m'sitelinks': [{'title': 'Trends in electric car markets', 'link': \u001B[0m                                             \u001B[32m│\u001B[0m\n",
       "\u001B[32m│\u001B[0m  \u001B[92m'https://www.iea.org/reports/global-ev-outlook-2025/trends-in-electric-car-markets-2'}, {'title': 'Electric \u001B[0m   \u001B[32m│\u001B[0m\n",
       "\u001B[32m│\u001B[0m  \u001B[92mvehicle charging', 'link': 'https://www.iea.org/reports/global-ev-outlook-2025/electric-vehicle-charging'}, \u001B[0m   \u001B[32m│\u001B[0m\n",
       "\u001B[32m│\u001B[0m  \u001B[92m{'title': 'Outlook for electric mobility', 'link': \u001B[0m                                                            \u001B[32m│\u001B[0m\n",
       "\u001B[32m│\u001B[0m  \u001B[92m'https://www.iea.org/reports/global-ev-outlook-2025/outlook-for-electric-mobility'}]}, {'title': 'Upcoming \u001B[0m    \u001B[32m│\u001B[0m\n",
       "\u001B[32m│\u001B[0m  \u001B[92mElectric Cars: 2026-2030 EVs | U.S. News', 'link': \u001B[0m                                                            \u001B[32m│\u001B[0m\n",
       "\u001B[32m│\u001B[0m  \u001B[92m'https://cars.usnews.com/cars-trucks/advice/future-electric-cars', 'snippet': \"They're among the most \u001B[0m         \u001B[32m│\u001B[0m\n",
       "\u001B[32m│\u001B[0m  \u001B[92mcutting-edge vehicles on the market, and the rapid expansion of public charging infrastructure, combined with\u001B[0m  \u001B[32m│\u001B[0m\n",
       "\u001B[32m│\u001B[0m  \u001B[92mthe fact that nearly all ...\", 'position': 3}, {'title': 'Electric Vehicle Outlook | BloombergNEF', 'link': \u001B[0m   \u001B[32m│\u001B[0m\n",
       "\u001B[32m│\u001B[0m  \u001B[92m'https://about.bnef.com/insights/clean-transport/electric-vehicle-outlook/', 'snippet': 'Key numbers ; 25. %.\u001B[0m  \u001B[32m│\u001B[0m\n",
       "\u001B[32m│\u001B[0m  \u001B[92mExpected growth in global passenger EV sales in 2025 ; 3 .8TWh. Risk-adjusted lithium-ion cell manufacturing \u001B[0m  \u001B[32m│\u001B[0m\n",
       "\u001B[32m│\u001B[0m  \u001B[92mcapacity by the end of 2025 – ...', 'position': 4}, {'title': 'The Global Electric Vehicle Market In 2025 - \u001B[0m   \u001B[32m│\u001B[0m\n",
       "\u001B[32m│\u001B[0m  \u001B[92mVirta', 'link': 'https://ww...\u001B[0m                                                                                 \u001B[32m│\u001B[0m\n",
       "\u001B[32m│\u001B[0m                                                                                                                 \u001B[32m│\u001B[0m\n",
       "\u001B[32m╰─────────────────────────────────────────────────────────────────────────────────────────────────────────────────╯\u001B[0m\n"
      ],
      "text/html": [
       "<pre style=\"white-space:pre;overflow-x:auto;line-height:normal;font-family:Menlo,'DejaVu Sans Mono',consolas,'Courier New',monospace\"><span style=\"color: #008000; text-decoration-color: #008000\">╭────────────────────────────────────────────────── Tool Output ──────────────────────────────────────────────────╮</span>\n",
       "<span style=\"color: #008000; text-decoration-color: #008000\">│</span>                                                                                                                 <span style=\"color: #008000; text-decoration-color: #008000\">│</span>\n",
       "<span style=\"color: #008000; text-decoration-color: #008000\">│</span>  <span style=\"color: #00ff00; text-decoration-color: #00ff00\">{'searchParameters': {'q': 'future of electric vehicles 2025 facts', 'type': 'search', 'num': 10, 'engine': </span>   <span style=\"color: #008000; text-decoration-color: #008000\">│</span>\n",
       "<span style=\"color: #008000; text-decoration-color: #008000\">│</span>  <span style=\"color: #00ff00; text-decoration-color: #00ff00\">'google'}, 'organic': [{'title': 'Trends in electric car markets – Global EV Outlook 2025 - IEA', 'link': </span>     <span style=\"color: #008000; text-decoration-color: #008000\">│</span>\n",
       "<span style=\"color: #008000; text-decoration-color: #008000\">│</span>  <span style=\"color: #00ff00; text-decoration-color: #00ff00\">'https://www.iea.org/reports/global-ev-outlook-2025/trends-in-electric-car-markets-2', 'snippet': 'Across the</span>  <span style=\"color: #008000; text-decoration-color: #008000\">│</span>\n",
       "<span style=\"color: #008000; text-decoration-color: #008000\">│</span>  <span style=\"color: #00ff00; text-decoration-color: #00ff00\">rest of the world, electric car sales are expected to grow by over 30% to around 1.8 million . This would </span>     <span style=\"color: #008000; text-decoration-color: #008000\">│</span>\n",
       "<span style=\"color: #008000; text-decoration-color: #008000\">│</span>  <span style=\"color: #00ff00; text-decoration-color: #00ff00\">mean electric cars account for 6% of all car sales outside of the three major EV markets in 2025, up from 5% </span>  <span style=\"color: #008000; text-decoration-color: #008000\">│</span>\n",
       "<span style=\"color: #008000; text-decoration-color: #008000\">│</span>  <span style=\"color: #00ff00; text-decoration-color: #00ff00\">in 2024.', 'position': 1}, {'title': 'Global EV Outlook 2025 – Analysis - IEA', 'link': </span>                       <span style=\"color: #008000; text-decoration-color: #008000\">│</span>\n",
       "<span style=\"color: #008000; text-decoration-color: #008000\">│</span>  <span style=\"color: #00ff00; text-decoration-color: #00ff00\">'https://www.iea.org/reports/global-ev-outlook-2025', 'snippet': 'The Global EV Outlook is an annual </span>          <span style=\"color: #008000; text-decoration-color: #008000\">│</span>\n",
       "<span style=\"color: #008000; text-decoration-color: #008000\">│</span>  <span style=\"color: #00ff00; text-decoration-color: #00ff00\">publication that reports on recent developments in electric mobility around the world.', 'position': 2, </span>       <span style=\"color: #008000; text-decoration-color: #008000\">│</span>\n",
       "<span style=\"color: #008000; text-decoration-color: #008000\">│</span>  <span style=\"color: #00ff00; text-decoration-color: #00ff00\">'sitelinks': [{'title': 'Trends in electric car markets', 'link': </span>                                             <span style=\"color: #008000; text-decoration-color: #008000\">│</span>\n",
       "<span style=\"color: #008000; text-decoration-color: #008000\">│</span>  <span style=\"color: #00ff00; text-decoration-color: #00ff00\">'https://www.iea.org/reports/global-ev-outlook-2025/trends-in-electric-car-markets-2'}, {'title': 'Electric </span>   <span style=\"color: #008000; text-decoration-color: #008000\">│</span>\n",
       "<span style=\"color: #008000; text-decoration-color: #008000\">│</span>  <span style=\"color: #00ff00; text-decoration-color: #00ff00\">vehicle charging', 'link': 'https://www.iea.org/reports/global-ev-outlook-2025/electric-vehicle-charging'}, </span>   <span style=\"color: #008000; text-decoration-color: #008000\">│</span>\n",
       "<span style=\"color: #008000; text-decoration-color: #008000\">│</span>  <span style=\"color: #00ff00; text-decoration-color: #00ff00\">{'title': 'Outlook for electric mobility', 'link': </span>                                                            <span style=\"color: #008000; text-decoration-color: #008000\">│</span>\n",
       "<span style=\"color: #008000; text-decoration-color: #008000\">│</span>  <span style=\"color: #00ff00; text-decoration-color: #00ff00\">'https://www.iea.org/reports/global-ev-outlook-2025/outlook-for-electric-mobility'}]}, {'title': 'Upcoming </span>    <span style=\"color: #008000; text-decoration-color: #008000\">│</span>\n",
       "<span style=\"color: #008000; text-decoration-color: #008000\">│</span>  <span style=\"color: #00ff00; text-decoration-color: #00ff00\">Electric Cars: 2026-2030 EVs | U.S. News', 'link': </span>                                                            <span style=\"color: #008000; text-decoration-color: #008000\">│</span>\n",
       "<span style=\"color: #008000; text-decoration-color: #008000\">│</span>  <span style=\"color: #00ff00; text-decoration-color: #00ff00\">'https://cars.usnews.com/cars-trucks/advice/future-electric-cars', 'snippet': \"They're among the most </span>         <span style=\"color: #008000; text-decoration-color: #008000\">│</span>\n",
       "<span style=\"color: #008000; text-decoration-color: #008000\">│</span>  <span style=\"color: #00ff00; text-decoration-color: #00ff00\">cutting-edge vehicles on the market, and the rapid expansion of public charging infrastructure, combined with</span>  <span style=\"color: #008000; text-decoration-color: #008000\">│</span>\n",
       "<span style=\"color: #008000; text-decoration-color: #008000\">│</span>  <span style=\"color: #00ff00; text-decoration-color: #00ff00\">the fact that nearly all ...\", 'position': 3}, {'title': 'Electric Vehicle Outlook | BloombergNEF', 'link': </span>   <span style=\"color: #008000; text-decoration-color: #008000\">│</span>\n",
       "<span style=\"color: #008000; text-decoration-color: #008000\">│</span>  <span style=\"color: #00ff00; text-decoration-color: #00ff00\">'https://about.bnef.com/insights/clean-transport/electric-vehicle-outlook/', 'snippet': 'Key numbers ; 25. %.</span>  <span style=\"color: #008000; text-decoration-color: #008000\">│</span>\n",
       "<span style=\"color: #008000; text-decoration-color: #008000\">│</span>  <span style=\"color: #00ff00; text-decoration-color: #00ff00\">Expected growth in global passenger EV sales in 2025 ; 3 .8TWh. Risk-adjusted lithium-ion cell manufacturing </span>  <span style=\"color: #008000; text-decoration-color: #008000\">│</span>\n",
       "<span style=\"color: #008000; text-decoration-color: #008000\">│</span>  <span style=\"color: #00ff00; text-decoration-color: #00ff00\">capacity by the end of 2025 – ...', 'position': 4}, {'title': 'The Global Electric Vehicle Market In 2025 - </span>   <span style=\"color: #008000; text-decoration-color: #008000\">│</span>\n",
       "<span style=\"color: #008000; text-decoration-color: #008000\">│</span>  <span style=\"color: #00ff00; text-decoration-color: #00ff00\">Virta', 'link': 'https://ww...</span>                                                                                 <span style=\"color: #008000; text-decoration-color: #008000\">│</span>\n",
       "<span style=\"color: #008000; text-decoration-color: #008000\">│</span>                                                                                                                 <span style=\"color: #008000; text-decoration-color: #008000\">│</span>\n",
       "<span style=\"color: #008000; text-decoration-color: #008000\">╰─────────────────────────────────────────────────────────────────────────────────────────────────────────────────╯</span>\n",
       "</pre>\n"
      ]
     },
     "metadata": {},
     "output_type": "display_data"
    },
    {
     "data": {
      "text/plain": [
       "\n"
      ],
      "text/html": [
       "<pre style=\"white-space:pre;overflow-x:auto;line-height:normal;font-family:Menlo,'DejaVu Sans Mono',consolas,'Courier New',monospace\">\n",
       "</pre>\n"
      ]
     },
     "metadata": {},
     "output_type": "display_data"
    },
    {
     "data": {
      "text/plain": [
       "/Users/ayushbasist/crewproject/.venv/lib/python3.10/site-packages/rich/live.py:231: UserWarning: install \n",
       "\"ipywidgets\" for Jupyter support\n",
       "  warnings.warn('install \"ipywidgets\" for Jupyter support')\n"
      ],
      "text/html": [
       "<pre style=\"white-space:pre;overflow-x:auto;line-height:normal;font-family:Menlo,'DejaVu Sans Mono',consolas,'Courier New',monospace\">/Users/ayushbasist/crewproject/.venv/lib/python3.10/site-packages/rich/live.py:231: UserWarning: install \n",
       "\"ipywidgets\" for Jupyter support\n",
       "  warnings.warn('install \"ipywidgets\" for Jupyter support')\n",
       "</pre>\n"
      ]
     },
     "metadata": {},
     "output_type": "display_data"
    },
    {
     "data": {
      "text/plain": [],
      "text/html": [
       "<pre style=\"white-space:pre;overflow-x:auto;line-height:normal;font-family:Menlo,'DejaVu Sans Mono',consolas,'Courier New',monospace\"></pre>\n"
      ]
     },
     "metadata": {},
     "output_type": "display_data"
    },
    {
     "data": {
      "text/plain": [
       "\u001B[35m╭─\u001B[0m\u001B[35m───────────────────────────────────────────\u001B[0m\u001B[35m 🔧 Agent Tool Execution \u001B[0m\u001B[35m───────────────────────────────────────────\u001B[0m\u001B[35m─╮\u001B[0m\n",
       "\u001B[35m│\u001B[0m                                                                                                                 \u001B[35m│\u001B[0m\n",
       "\u001B[35m│\u001B[0m  \u001B[37mAgent: \u001B[0m\u001B[1;92mResearch Specialist\u001B[0m                                                                                     \u001B[35m│\u001B[0m\n",
       "\u001B[35m│\u001B[0m                                                                                                                 \u001B[35m│\u001B[0m\n",
       "\u001B[35m│\u001B[0m  \u001B[37mThought: \u001B[0m\u001B[92mThought: I have the search results. I will extract some interesting facts about the future of \u001B[0m        \u001B[35m│\u001B[0m\n",
       "\u001B[35m│\u001B[0m  \u001B[92melectric vehicles in 2025.\u001B[0m                                                                                     \u001B[35m│\u001B[0m\n",
       "\u001B[35m│\u001B[0m                                                                                                                 \u001B[35m│\u001B[0m\n",
       "\u001B[35m│\u001B[0m  \u001B[37mUsing Tool: \u001B[0m\u001B[1;92mSearch the internet with Serper\u001B[0m                                                                    \u001B[35m│\u001B[0m\n",
       "\u001B[35m│\u001B[0m                                                                                                                 \u001B[35m│\u001B[0m\n",
       "\u001B[35m╰─────────────────────────────────────────────────────────────────────────────────────────────────────────────────╯\u001B[0m\n"
      ],
      "text/html": [
       "<pre style=\"white-space:pre;overflow-x:auto;line-height:normal;font-family:Menlo,'DejaVu Sans Mono',consolas,'Courier New',monospace\"><span style=\"color: #800080; text-decoration-color: #800080\">╭──────────────────────────────────────────── 🔧 Agent Tool Execution ────────────────────────────────────────────╮</span>\n",
       "<span style=\"color: #800080; text-decoration-color: #800080\">│</span>                                                                                                                 <span style=\"color: #800080; text-decoration-color: #800080\">│</span>\n",
       "<span style=\"color: #800080; text-decoration-color: #800080\">│</span>  <span style=\"color: #c0c0c0; text-decoration-color: #c0c0c0\">Agent: </span><span style=\"color: #00ff00; text-decoration-color: #00ff00; font-weight: bold\">Research Specialist</span>                                                                                     <span style=\"color: #800080; text-decoration-color: #800080\">│</span>\n",
       "<span style=\"color: #800080; text-decoration-color: #800080\">│</span>                                                                                                                 <span style=\"color: #800080; text-decoration-color: #800080\">│</span>\n",
       "<span style=\"color: #800080; text-decoration-color: #800080\">│</span>  <span style=\"color: #c0c0c0; text-decoration-color: #c0c0c0\">Thought: </span><span style=\"color: #00ff00; text-decoration-color: #00ff00\">Thought: I have the search results. I will extract some interesting facts about the future of </span>        <span style=\"color: #800080; text-decoration-color: #800080\">│</span>\n",
       "<span style=\"color: #800080; text-decoration-color: #800080\">│</span>  <span style=\"color: #00ff00; text-decoration-color: #00ff00\">electric vehicles in 2025.</span>                                                                                     <span style=\"color: #800080; text-decoration-color: #800080\">│</span>\n",
       "<span style=\"color: #800080; text-decoration-color: #800080\">│</span>                                                                                                                 <span style=\"color: #800080; text-decoration-color: #800080\">│</span>\n",
       "<span style=\"color: #800080; text-decoration-color: #800080\">│</span>  <span style=\"color: #c0c0c0; text-decoration-color: #c0c0c0\">Using Tool: </span><span style=\"color: #00ff00; text-decoration-color: #00ff00; font-weight: bold\">Search the internet with Serper</span>                                                                    <span style=\"color: #800080; text-decoration-color: #800080\">│</span>\n",
       "<span style=\"color: #800080; text-decoration-color: #800080\">│</span>                                                                                                                 <span style=\"color: #800080; text-decoration-color: #800080\">│</span>\n",
       "<span style=\"color: #800080; text-decoration-color: #800080\">╰─────────────────────────────────────────────────────────────────────────────────────────────────────────────────╯</span>\n",
       "</pre>\n"
      ]
     },
     "metadata": {},
     "output_type": "display_data"
    },
    {
     "data": {
      "text/plain": [
       "\u001B[34m╭─\u001B[0m\u001B[34m─────────────────────────────────────────────────\u001B[0m\u001B[34m Tool Input \u001B[0m\u001B[34m──────────────────────────────────────────────────\u001B[0m\u001B[34m─╮\u001B[0m\n",
       "\u001B[34m│\u001B[0m                                                                                                                 \u001B[34m│\u001B[0m\n",
       "\u001B[34m│\u001B[0m  \u001B[38;2;230;219;116;49m\"{\\\"search_query\\\": \\\"electric vehicle sales forecast 2025\\\"}\"\u001B[0m                                                 \u001B[34m│\u001B[0m\n",
       "\u001B[34m│\u001B[0m                                                                                                                 \u001B[34m│\u001B[0m\n",
       "\u001B[34m╰─────────────────────────────────────────────────────────────────────────────────────────────────────────────────╯\u001B[0m\n"
      ],
      "text/html": [
       "<pre style=\"white-space:pre;overflow-x:auto;line-height:normal;font-family:Menlo,'DejaVu Sans Mono',consolas,'Courier New',monospace\"><span style=\"color: #000080; text-decoration-color: #000080\">╭────────────────────────────────────────────────── Tool Input ───────────────────────────────────────────────────╮</span>\n",
       "<span style=\"color: #000080; text-decoration-color: #000080\">│</span>                                                                                                                 <span style=\"color: #000080; text-decoration-color: #000080\">│</span>\n",
       "<span style=\"color: #000080; text-decoration-color: #000080\">│</span>  <span style=\"color: #e6db74; text-decoration-color: #e6db74; background-color: #ffffff\">\"{\\\"search_query\\\": \\\"electric vehicle sales forecast 2025\\\"}\"</span>                                                 <span style=\"color: #000080; text-decoration-color: #000080\">│</span>\n",
       "<span style=\"color: #000080; text-decoration-color: #000080\">│</span>                                                                                                                 <span style=\"color: #000080; text-decoration-color: #000080\">│</span>\n",
       "<span style=\"color: #000080; text-decoration-color: #000080\">╰─────────────────────────────────────────────────────────────────────────────────────────────────────────────────╯</span>\n",
       "</pre>\n"
      ]
     },
     "metadata": {},
     "output_type": "display_data"
    },
    {
     "data": {
      "text/plain": [
       "\u001B[32m╭─\u001B[0m\u001B[32m─────────────────────────────────────────────────\u001B[0m\u001B[32m Tool Output \u001B[0m\u001B[32m─────────────────────────────────────────────────\u001B[0m\u001B[32m─╮\u001B[0m\n",
       "\u001B[32m│\u001B[0m                                                                                                                 \u001B[32m│\u001B[0m\n",
       "\u001B[32m│\u001B[0m  \u001B[92m{'searchParameters': {'q': 'electric vehicle sales forecast 2025', 'type': 'search', 'num': 10, 'engine': \u001B[0m     \u001B[32m│\u001B[0m\n",
       "\u001B[32m│\u001B[0m  \u001B[92m'google'}, 'organic': [{'title': 'Q2 EV Sales Dip During Record First Half - Cox Automotive', 'link': \u001B[0m         \u001B[32m│\u001B[0m\n",
       "\u001B[32m│\u001B[0m  \u001B[92m'https://www.coxautoinc.com/market-insights/q2-2025-ev-sales/', 'snippet': 'Expectations for total new EV \u001B[0m     \u001B[32m│\u001B[0m\n",
       "\u001B[32m│\u001B[0m  \u001B[92msales in the U.S. in 2025 have been lowered from approximately a 10% share of total sales at the end of the \u001B[0m   \u001B[32m│\u001B[0m\n",
       "\u001B[32m│\u001B[0m  \u001B[92myear to an 8.5% share ; volume is expected to remain flat year over year.', 'position': 1}, {'title': 'Global\u001B[0m  \u001B[32m│\u001B[0m\n",
       "\u001B[32m│\u001B[0m  \u001B[92mEV Outlook 2025 – Analysis - IEA', 'link': 'https://www.iea.org/reports/global-ev-outlook-2025', 'snippet': \u001B[0m   \u001B[32m│\u001B[0m\n",
       "\u001B[32m│\u001B[0m  \u001B[92m'Global EV Data Explorer. Explore historical and projected data on electric vehicles sales, stock, charging \u001B[0m   \u001B[32m│\u001B[0m\n",
       "\u001B[32m│\u001B[0m  \u001B[92minfrastructure and oil displacement.', 'position': 2, 'sitelinks': [{'title': 'Trends in electric car \u001B[0m         \u001B[32m│\u001B[0m\n",
       "\u001B[32m│\u001B[0m  \u001B[92mmarkets', 'link': 'https://www.iea.org/reports/global-ev-outlook-2025/trends-in-electric-car-markets-2'}, \u001B[0m     \u001B[32m│\u001B[0m\n",
       "\u001B[32m│\u001B[0m  \u001B[92m{'title': 'Outlook for electric mobility', 'link': \u001B[0m                                                            \u001B[32m│\u001B[0m\n",
       "\u001B[32m│\u001B[0m  \u001B[92m'https://www.iea.org/reports/global-ev-outlook-2025/outlook-for-electric-mobility'}, {'title': 'Executive \u001B[0m     \u001B[32m│\u001B[0m\n",
       "\u001B[32m│\u001B[0m  \u001B[92msummary', 'link': 'https://www.iea.org/reports/global-ev-outlook-2025/executive-summary'}]}, {'title': \u001B[0m        \u001B[32m│\u001B[0m\n",
       "\u001B[32m│\u001B[0m  \u001B[92m'Electric Vehicle Outlook | BloombergNEF', 'link': \u001B[0m                                                            \u001B[32m│\u001B[0m\n",
       "\u001B[32m│\u001B[0m  \u001B[92m'https://about.bnef.com/insights/clean-transport/electric-vehicle-outlook/', 'snippet': '25. %. Expected \u001B[0m      \u001B[32m│\u001B[0m\n",
       "\u001B[32m│\u001B[0m  \u001B[92mgrowth in global passenger EV sales in 2025 ; 3 .8TWh. Risk-adjusted lithium-ion cell manufacturing capacity \u001B[0m  \u001B[32m│\u001B[0m\n",
       "\u001B[32m│\u001B[0m  \u001B[92mby the end of 2025 – double expected ...', 'position': 3}, {'title': '[PDF] Electric Vehicle Sales Report', \u001B[0m   \u001B[32m│\u001B[0m\n",
       "\u001B[32m│\u001B[0m  \u001B[92m'link': \u001B[0m                                                                                                       \u001B[32m│\u001B[0m\n",
       "\u001B[32m│\u001B[0m  \u001B[92m'https://www.coxautoinc.com/wp-content/uploads/2025/04/Q1-2025-Kelley-Blue-Book-EV-Sales-Report-04-11-25.pdf'\u001B[0m  \u001B[32m│\u001B[0m\n",
       "\u001B[32m│\u001B[0m  \u001B[92m, 'snippet': 'Electric Vehicle. Sales Report. Q1 2025. Estimates as of 04/11/25. Page 2. 2025. 2024. YOY. \u001B[0m     \u001B[32m│\u001B[0m\n",
       "\u001B[32m│\u001B[0m  \u001B[92m2025. 2024. YOY. Q1. YTD. Acura. 4,813. -. -. 4,813.', 'position': 4}, {'title': 'The 10 Bestselling EVs of \u001B[0m   \u001B[32m│\u001B[0m\n",
       "\u001B[32m│\u001B[0m  \u001B[92m2025 (So Far) - Car and Driver', 'link': 'https://www.caranddriver.com/news/g...\u001B[0m                               \u001B[32m│\u001B[0m\n",
       "\u001B[32m│\u001B[0m                                                                                                                 \u001B[32m│\u001B[0m\n",
       "\u001B[32m╰─────────────────────────────────────────────────────────────────────────────────────────────────────────────────╯\u001B[0m\n"
      ],
      "text/html": [
       "<pre style=\"white-space:pre;overflow-x:auto;line-height:normal;font-family:Menlo,'DejaVu Sans Mono',consolas,'Courier New',monospace\"><span style=\"color: #008000; text-decoration-color: #008000\">╭────────────────────────────────────────────────── Tool Output ──────────────────────────────────────────────────╮</span>\n",
       "<span style=\"color: #008000; text-decoration-color: #008000\">│</span>                                                                                                                 <span style=\"color: #008000; text-decoration-color: #008000\">│</span>\n",
       "<span style=\"color: #008000; text-decoration-color: #008000\">│</span>  <span style=\"color: #00ff00; text-decoration-color: #00ff00\">{'searchParameters': {'q': 'electric vehicle sales forecast 2025', 'type': 'search', 'num': 10, 'engine': </span>     <span style=\"color: #008000; text-decoration-color: #008000\">│</span>\n",
       "<span style=\"color: #008000; text-decoration-color: #008000\">│</span>  <span style=\"color: #00ff00; text-decoration-color: #00ff00\">'google'}, 'organic': [{'title': 'Q2 EV Sales Dip During Record First Half - Cox Automotive', 'link': </span>         <span style=\"color: #008000; text-decoration-color: #008000\">│</span>\n",
       "<span style=\"color: #008000; text-decoration-color: #008000\">│</span>  <span style=\"color: #00ff00; text-decoration-color: #00ff00\">'https://www.coxautoinc.com/market-insights/q2-2025-ev-sales/', 'snippet': 'Expectations for total new EV </span>     <span style=\"color: #008000; text-decoration-color: #008000\">│</span>\n",
       "<span style=\"color: #008000; text-decoration-color: #008000\">│</span>  <span style=\"color: #00ff00; text-decoration-color: #00ff00\">sales in the U.S. in 2025 have been lowered from approximately a 10% share of total sales at the end of the </span>   <span style=\"color: #008000; text-decoration-color: #008000\">│</span>\n",
       "<span style=\"color: #008000; text-decoration-color: #008000\">│</span>  <span style=\"color: #00ff00; text-decoration-color: #00ff00\">year to an 8.5% share ; volume is expected to remain flat year over year.', 'position': 1}, {'title': 'Global</span>  <span style=\"color: #008000; text-decoration-color: #008000\">│</span>\n",
       "<span style=\"color: #008000; text-decoration-color: #008000\">│</span>  <span style=\"color: #00ff00; text-decoration-color: #00ff00\">EV Outlook 2025 – Analysis - IEA', 'link': 'https://www.iea.org/reports/global-ev-outlook-2025', 'snippet': </span>   <span style=\"color: #008000; text-decoration-color: #008000\">│</span>\n",
       "<span style=\"color: #008000; text-decoration-color: #008000\">│</span>  <span style=\"color: #00ff00; text-decoration-color: #00ff00\">'Global EV Data Explorer. Explore historical and projected data on electric vehicles sales, stock, charging </span>   <span style=\"color: #008000; text-decoration-color: #008000\">│</span>\n",
       "<span style=\"color: #008000; text-decoration-color: #008000\">│</span>  <span style=\"color: #00ff00; text-decoration-color: #00ff00\">infrastructure and oil displacement.', 'position': 2, 'sitelinks': [{'title': 'Trends in electric car </span>         <span style=\"color: #008000; text-decoration-color: #008000\">│</span>\n",
       "<span style=\"color: #008000; text-decoration-color: #008000\">│</span>  <span style=\"color: #00ff00; text-decoration-color: #00ff00\">markets', 'link': 'https://www.iea.org/reports/global-ev-outlook-2025/trends-in-electric-car-markets-2'}, </span>     <span style=\"color: #008000; text-decoration-color: #008000\">│</span>\n",
       "<span style=\"color: #008000; text-decoration-color: #008000\">│</span>  <span style=\"color: #00ff00; text-decoration-color: #00ff00\">{'title': 'Outlook for electric mobility', 'link': </span>                                                            <span style=\"color: #008000; text-decoration-color: #008000\">│</span>\n",
       "<span style=\"color: #008000; text-decoration-color: #008000\">│</span>  <span style=\"color: #00ff00; text-decoration-color: #00ff00\">'https://www.iea.org/reports/global-ev-outlook-2025/outlook-for-electric-mobility'}, {'title': 'Executive </span>     <span style=\"color: #008000; text-decoration-color: #008000\">│</span>\n",
       "<span style=\"color: #008000; text-decoration-color: #008000\">│</span>  <span style=\"color: #00ff00; text-decoration-color: #00ff00\">summary', 'link': 'https://www.iea.org/reports/global-ev-outlook-2025/executive-summary'}]}, {'title': </span>        <span style=\"color: #008000; text-decoration-color: #008000\">│</span>\n",
       "<span style=\"color: #008000; text-decoration-color: #008000\">│</span>  <span style=\"color: #00ff00; text-decoration-color: #00ff00\">'Electric Vehicle Outlook | BloombergNEF', 'link': </span>                                                            <span style=\"color: #008000; text-decoration-color: #008000\">│</span>\n",
       "<span style=\"color: #008000; text-decoration-color: #008000\">│</span>  <span style=\"color: #00ff00; text-decoration-color: #00ff00\">'https://about.bnef.com/insights/clean-transport/electric-vehicle-outlook/', 'snippet': '25. %. Expected </span>      <span style=\"color: #008000; text-decoration-color: #008000\">│</span>\n",
       "<span style=\"color: #008000; text-decoration-color: #008000\">│</span>  <span style=\"color: #00ff00; text-decoration-color: #00ff00\">growth in global passenger EV sales in 2025 ; 3 .8TWh. Risk-adjusted lithium-ion cell manufacturing capacity </span>  <span style=\"color: #008000; text-decoration-color: #008000\">│</span>\n",
       "<span style=\"color: #008000; text-decoration-color: #008000\">│</span>  <span style=\"color: #00ff00; text-decoration-color: #00ff00\">by the end of 2025 – double expected ...', 'position': 3}, {'title': '[PDF] Electric Vehicle Sales Report', </span>   <span style=\"color: #008000; text-decoration-color: #008000\">│</span>\n",
       "<span style=\"color: #008000; text-decoration-color: #008000\">│</span>  <span style=\"color: #00ff00; text-decoration-color: #00ff00\">'link': </span>                                                                                                       <span style=\"color: #008000; text-decoration-color: #008000\">│</span>\n",
       "<span style=\"color: #008000; text-decoration-color: #008000\">│</span>  <span style=\"color: #00ff00; text-decoration-color: #00ff00\">'https://www.coxautoinc.com/wp-content/uploads/2025/04/Q1-2025-Kelley-Blue-Book-EV-Sales-Report-04-11-25.pdf'</span>  <span style=\"color: #008000; text-decoration-color: #008000\">│</span>\n",
       "<span style=\"color: #008000; text-decoration-color: #008000\">│</span>  <span style=\"color: #00ff00; text-decoration-color: #00ff00\">, 'snippet': 'Electric Vehicle. Sales Report. Q1 2025. Estimates as of 04/11/25. Page 2. 2025. 2024. YOY. </span>     <span style=\"color: #008000; text-decoration-color: #008000\">│</span>\n",
       "<span style=\"color: #008000; text-decoration-color: #008000\">│</span>  <span style=\"color: #00ff00; text-decoration-color: #00ff00\">2025. 2024. YOY. Q1. YTD. Acura. 4,813. -. -. 4,813.', 'position': 4}, {'title': 'The 10 Bestselling EVs of </span>   <span style=\"color: #008000; text-decoration-color: #008000\">│</span>\n",
       "<span style=\"color: #008000; text-decoration-color: #008000\">│</span>  <span style=\"color: #00ff00; text-decoration-color: #00ff00\">2025 (So Far) - Car and Driver', 'link': 'https://www.caranddriver.com/news/g...</span>                               <span style=\"color: #008000; text-decoration-color: #008000\">│</span>\n",
       "<span style=\"color: #008000; text-decoration-color: #008000\">│</span>                                                                                                                 <span style=\"color: #008000; text-decoration-color: #008000\">│</span>\n",
       "<span style=\"color: #008000; text-decoration-color: #008000\">╰─────────────────────────────────────────────────────────────────────────────────────────────────────────────────╯</span>\n",
       "</pre>\n"
      ]
     },
     "metadata": {},
     "output_type": "display_data"
    },
    {
     "data": {
      "text/plain": [
       "\n"
      ],
      "text/html": [
       "<pre style=\"white-space:pre;overflow-x:auto;line-height:normal;font-family:Menlo,'DejaVu Sans Mono',consolas,'Courier New',monospace\">\n",
       "</pre>\n"
      ]
     },
     "metadata": {},
     "output_type": "display_data"
    },
    {
     "data": {
      "text/plain": [],
      "text/html": [
       "<pre style=\"white-space:pre;overflow-x:auto;line-height:normal;font-family:Menlo,'DejaVu Sans Mono',consolas,'Courier New',monospace\"></pre>\n"
      ]
     },
     "metadata": {},
     "output_type": "display_data"
    },
    {
     "data": {
      "text/plain": [
       "\u001B[32m╭─\u001B[0m\u001B[32m────────────────────────────────────────────\u001B[0m\u001B[32m ✅ Agent Final Answer \u001B[0m\u001B[32m────────────────────────────────────────────\u001B[0m\u001B[32m─╮\u001B[0m\n",
       "\u001B[32m│\u001B[0m                                                                                                                 \u001B[32m│\u001B[0m\n",
       "\u001B[32m│\u001B[0m  \u001B[37mAgent: \u001B[0m\u001B[1;92mResearch Specialist\u001B[0m                                                                                     \u001B[32m│\u001B[0m\n",
       "\u001B[32m│\u001B[0m                                                                                                                 \u001B[32m│\u001B[0m\n",
       "\u001B[32m│\u001B[0m  \u001B[37mFinal Answer:\u001B[0m                                                                                                  \u001B[32m│\u001B[0m\n",
       "\u001B[32m│\u001B[0m  \u001B[92m*   Global passenger EV sales are expected to grow by 25% in 2025.\u001B[0m                                             \u001B[32m│\u001B[0m\n",
       "\u001B[32m│\u001B[0m  \u001B[92m*   The US EV market share is expected to be around 8.5% of total sales by the end of 2025.\u001B[0m                    \u001B[32m│\u001B[0m\n",
       "\u001B[32m│\u001B[0m  \u001B[92m*   Global EV sales are projected to reach 21.3 million units in 2025, representing a 24% market share.\u001B[0m        \u001B[32m│\u001B[0m\n",
       "\u001B[32m│\u001B[0m  \u001B[92m*   The first quarter of 2025 saw a 42% year-on-year growth in global battery electric vehicle (BEV) sales.\u001B[0m    \u001B[32m│\u001B[0m\n",
       "\u001B[32m│\u001B[0m  \u001B[92m*   Outside of the major EV markets, electric cars are expected to account for 6% of all car sales in 2025.\u001B[0m    \u001B[32m│\u001B[0m\n",
       "\u001B[32m│\u001B[0m                                                                                                                 \u001B[32m│\u001B[0m\n",
       "\u001B[32m╰─────────────────────────────────────────────────────────────────────────────────────────────────────────────────╯\u001B[0m\n"
      ],
      "text/html": [
       "<pre style=\"white-space:pre;overflow-x:auto;line-height:normal;font-family:Menlo,'DejaVu Sans Mono',consolas,'Courier New',monospace\"><span style=\"color: #008000; text-decoration-color: #008000\">╭───────────────────────────────────────────── ✅ Agent Final Answer ─────────────────────────────────────────────╮</span>\n",
       "<span style=\"color: #008000; text-decoration-color: #008000\">│</span>                                                                                                                 <span style=\"color: #008000; text-decoration-color: #008000\">│</span>\n",
       "<span style=\"color: #008000; text-decoration-color: #008000\">│</span>  <span style=\"color: #c0c0c0; text-decoration-color: #c0c0c0\">Agent: </span><span style=\"color: #00ff00; text-decoration-color: #00ff00; font-weight: bold\">Research Specialist</span>                                                                                     <span style=\"color: #008000; text-decoration-color: #008000\">│</span>\n",
       "<span style=\"color: #008000; text-decoration-color: #008000\">│</span>                                                                                                                 <span style=\"color: #008000; text-decoration-color: #008000\">│</span>\n",
       "<span style=\"color: #008000; text-decoration-color: #008000\">│</span>  <span style=\"color: #c0c0c0; text-decoration-color: #c0c0c0\">Final Answer:</span>                                                                                                  <span style=\"color: #008000; text-decoration-color: #008000\">│</span>\n",
       "<span style=\"color: #008000; text-decoration-color: #008000\">│</span>  <span style=\"color: #00ff00; text-decoration-color: #00ff00\">*   Global passenger EV sales are expected to grow by 25% in 2025.</span>                                             <span style=\"color: #008000; text-decoration-color: #008000\">│</span>\n",
       "<span style=\"color: #008000; text-decoration-color: #008000\">│</span>  <span style=\"color: #00ff00; text-decoration-color: #00ff00\">*   The US EV market share is expected to be around 8.5% of total sales by the end of 2025.</span>                    <span style=\"color: #008000; text-decoration-color: #008000\">│</span>\n",
       "<span style=\"color: #008000; text-decoration-color: #008000\">│</span>  <span style=\"color: #00ff00; text-decoration-color: #00ff00\">*   Global EV sales are projected to reach 21.3 million units in 2025, representing a 24% market share.</span>        <span style=\"color: #008000; text-decoration-color: #008000\">│</span>\n",
       "<span style=\"color: #008000; text-decoration-color: #008000\">│</span>  <span style=\"color: #00ff00; text-decoration-color: #00ff00\">*   The first quarter of 2025 saw a 42% year-on-year growth in global battery electric vehicle (BEV) sales.</span>    <span style=\"color: #008000; text-decoration-color: #008000\">│</span>\n",
       "<span style=\"color: #008000; text-decoration-color: #008000\">│</span>  <span style=\"color: #00ff00; text-decoration-color: #00ff00\">*   Outside of the major EV markets, electric cars are expected to account for 6% of all car sales in 2025.</span>    <span style=\"color: #008000; text-decoration-color: #008000\">│</span>\n",
       "<span style=\"color: #008000; text-decoration-color: #008000\">│</span>                                                                                                                 <span style=\"color: #008000; text-decoration-color: #008000\">│</span>\n",
       "<span style=\"color: #008000; text-decoration-color: #008000\">╰─────────────────────────────────────────────────────────────────────────────────────────────────────────────────╯</span>\n",
       "</pre>\n"
      ]
     },
     "metadata": {},
     "output_type": "display_data"
    },
    {
     "data": {
      "text/plain": [
       "\n"
      ],
      "text/html": [
       "<pre style=\"white-space:pre;overflow-x:auto;line-height:normal;font-family:Menlo,'DejaVu Sans Mono',consolas,'Courier New',monospace\">\n",
       "</pre>\n"
      ]
     },
     "metadata": {},
     "output_type": "display_data"
    },
    {
     "data": {
      "text/plain": [],
      "text/html": [
       "<pre style=\"white-space:pre;overflow-x:auto;line-height:normal;font-family:Menlo,'DejaVu Sans Mono',consolas,'Courier New',monospace\"></pre>\n"
      ]
     },
     "metadata": {},
     "output_type": "display_data"
    },
    {
     "data": {
      "text/plain": [
       "\u001B[32m╭─\u001B[0m\u001B[32m───────────────────────────────────────────────\u001B[0m\u001B[32m Task Completion \u001B[0m\u001B[32m───────────────────────────────────────────────\u001B[0m\u001B[32m─╮\u001B[0m\n",
       "\u001B[32m│\u001B[0m                                                                                                                 \u001B[32m│\u001B[0m\n",
       "\u001B[32m│\u001B[0m  \u001B[1;32mTask Completed\u001B[0m                                                                                                 \u001B[32m│\u001B[0m\n",
       "\u001B[32m│\u001B[0m  \u001B[37mName: \u001B[0m\u001B[32mabc2ebc1-d38b-48cc-b6c5-e3188a3e5394\u001B[0m                                                                     \u001B[32m│\u001B[0m\n",
       "\u001B[32m│\u001B[0m  \u001B[37mAgent: \u001B[0m\u001B[32mResearch Specialist\u001B[0m                                                                                     \u001B[32m│\u001B[0m\n",
       "\u001B[32m│\u001B[0m  \u001B[37mTool Args: \u001B[0m                                                                                                    \u001B[32m│\u001B[0m\n",
       "\u001B[32m│\u001B[0m                                                                                                                 \u001B[32m│\u001B[0m\n",
       "\u001B[32m│\u001B[0m                                                                                                                 \u001B[32m│\u001B[0m\n",
       "\u001B[32m╰─────────────────────────────────────────────────────────────────────────────────────────────────────────────────╯\u001B[0m\n"
      ],
      "text/html": [
       "<pre style=\"white-space:pre;overflow-x:auto;line-height:normal;font-family:Menlo,'DejaVu Sans Mono',consolas,'Courier New',monospace\"><span style=\"color: #008000; text-decoration-color: #008000\">╭──────────────────────────────────────────────── Task Completion ────────────────────────────────────────────────╮</span>\n",
       "<span style=\"color: #008000; text-decoration-color: #008000\">│</span>                                                                                                                 <span style=\"color: #008000; text-decoration-color: #008000\">│</span>\n",
       "<span style=\"color: #008000; text-decoration-color: #008000\">│</span>  <span style=\"color: #008000; text-decoration-color: #008000; font-weight: bold\">Task Completed</span>                                                                                                 <span style=\"color: #008000; text-decoration-color: #008000\">│</span>\n",
       "<span style=\"color: #008000; text-decoration-color: #008000\">│</span>  <span style=\"color: #c0c0c0; text-decoration-color: #c0c0c0\">Name: </span><span style=\"color: #008000; text-decoration-color: #008000\">abc2ebc1-d38b-48cc-b6c5-e3188a3e5394</span>                                                                     <span style=\"color: #008000; text-decoration-color: #008000\">│</span>\n",
       "<span style=\"color: #008000; text-decoration-color: #008000\">│</span>  <span style=\"color: #c0c0c0; text-decoration-color: #c0c0c0\">Agent: </span><span style=\"color: #008000; text-decoration-color: #008000\">Research Specialist</span>                                                                                     <span style=\"color: #008000; text-decoration-color: #008000\">│</span>\n",
       "<span style=\"color: #008000; text-decoration-color: #008000\">│</span>  <span style=\"color: #c0c0c0; text-decoration-color: #c0c0c0\">Tool Args: </span>                                                                                                    <span style=\"color: #008000; text-decoration-color: #008000\">│</span>\n",
       "<span style=\"color: #008000; text-decoration-color: #008000\">│</span>                                                                                                                 <span style=\"color: #008000; text-decoration-color: #008000\">│</span>\n",
       "<span style=\"color: #008000; text-decoration-color: #008000\">│</span>                                                                                                                 <span style=\"color: #008000; text-decoration-color: #008000\">│</span>\n",
       "<span style=\"color: #008000; text-decoration-color: #008000\">╰─────────────────────────────────────────────────────────────────────────────────────────────────────────────────╯</span>\n",
       "</pre>\n"
      ]
     },
     "metadata": {},
     "output_type": "display_data"
    },
    {
     "data": {
      "text/plain": [
       "\n"
      ],
      "text/html": [
       "<pre style=\"white-space:pre;overflow-x:auto;line-height:normal;font-family:Menlo,'DejaVu Sans Mono',consolas,'Courier New',monospace\">\n",
       "</pre>\n"
      ]
     },
     "metadata": {},
     "output_type": "display_data"
    },
    {
     "data": {
      "text/plain": [],
      "text/html": [
       "<pre style=\"white-space:pre;overflow-x:auto;line-height:normal;font-family:Menlo,'DejaVu Sans Mono',consolas,'Courier New',monospace\"></pre>\n"
      ]
     },
     "metadata": {},
     "output_type": "display_data"
    },
    {
     "data": {
      "text/plain": [
       "\u001B[35m╭─\u001B[0m\u001B[35m──────────────────────────────────────────────\u001B[0m\u001B[35m 🤖 Agent Started \u001B[0m\u001B[35m───────────────────────────────────────────────\u001B[0m\u001B[35m─╮\u001B[0m\n",
       "\u001B[35m│\u001B[0m                                                                                                                 \u001B[35m│\u001B[0m\n",
       "\u001B[35m│\u001B[0m  \u001B[37mAgent: \u001B[0m\u001B[1;92mCreative Writer\u001B[0m                                                                                         \u001B[35m│\u001B[0m\n",
       "\u001B[35m│\u001B[0m                                                                                                                 \u001B[35m│\u001B[0m\n",
       "\u001B[35m│\u001B[0m  \u001B[37mTask: \u001B[0m\u001B[92mWrite a 100-word blog post summary about The future of electrical vehicles using the facts from the \u001B[0m     \u001B[35m│\u001B[0m\n",
       "\u001B[35m│\u001B[0m  \u001B[92mresearch.\u001B[0m                                                                                                      \u001B[35m│\u001B[0m\n",
       "\u001B[35m│\u001B[0m                                                                                                                 \u001B[35m│\u001B[0m\n",
       "\u001B[35m╰─────────────────────────────────────────────────────────────────────────────────────────────────────────────────╯\u001B[0m\n"
      ],
      "text/html": [
       "<pre style=\"white-space:pre;overflow-x:auto;line-height:normal;font-family:Menlo,'DejaVu Sans Mono',consolas,'Courier New',monospace\"><span style=\"color: #800080; text-decoration-color: #800080\">╭─────────────────────────────────────────────── 🤖 Agent Started ────────────────────────────────────────────────╮</span>\n",
       "<span style=\"color: #800080; text-decoration-color: #800080\">│</span>                                                                                                                 <span style=\"color: #800080; text-decoration-color: #800080\">│</span>\n",
       "<span style=\"color: #800080; text-decoration-color: #800080\">│</span>  <span style=\"color: #c0c0c0; text-decoration-color: #c0c0c0\">Agent: </span><span style=\"color: #00ff00; text-decoration-color: #00ff00; font-weight: bold\">Creative Writer</span>                                                                                         <span style=\"color: #800080; text-decoration-color: #800080\">│</span>\n",
       "<span style=\"color: #800080; text-decoration-color: #800080\">│</span>                                                                                                                 <span style=\"color: #800080; text-decoration-color: #800080\">│</span>\n",
       "<span style=\"color: #800080; text-decoration-color: #800080\">│</span>  <span style=\"color: #c0c0c0; text-decoration-color: #c0c0c0\">Task: </span><span style=\"color: #00ff00; text-decoration-color: #00ff00\">Write a 100-word blog post summary about The future of electrical vehicles using the facts from the </span>     <span style=\"color: #800080; text-decoration-color: #800080\">│</span>\n",
       "<span style=\"color: #800080; text-decoration-color: #800080\">│</span>  <span style=\"color: #00ff00; text-decoration-color: #00ff00\">research.</span>                                                                                                      <span style=\"color: #800080; text-decoration-color: #800080\">│</span>\n",
       "<span style=\"color: #800080; text-decoration-color: #800080\">│</span>                                                                                                                 <span style=\"color: #800080; text-decoration-color: #800080\">│</span>\n",
       "<span style=\"color: #800080; text-decoration-color: #800080\">╰─────────────────────────────────────────────────────────────────────────────────────────────────────────────────╯</span>\n",
       "</pre>\n"
      ]
     },
     "metadata": {},
     "output_type": "display_data"
    },
    {
     "data": {
      "text/plain": [
       "\n"
      ],
      "text/html": [
       "<pre style=\"white-space:pre;overflow-x:auto;line-height:normal;font-family:Menlo,'DejaVu Sans Mono',consolas,'Courier New',monospace\">\n",
       "</pre>\n"
      ]
     },
     "metadata": {},
     "output_type": "display_data"
    },
    {
     "data": {
      "text/plain": [],
      "text/html": [
       "<pre style=\"white-space:pre;overflow-x:auto;line-height:normal;font-family:Menlo,'DejaVu Sans Mono',consolas,'Courier New',monospace\"></pre>\n"
      ]
     },
     "metadata": {},
     "output_type": "display_data"
    },
    {
     "data": {
      "text/plain": [
       "\u001B[32m╭─\u001B[0m\u001B[32m────────────────────────────────────────────\u001B[0m\u001B[32m ✅ Agent Final Answer \u001B[0m\u001B[32m────────────────────────────────────────────\u001B[0m\u001B[32m─╮\u001B[0m\n",
       "\u001B[32m│\u001B[0m                                                                                                                 \u001B[32m│\u001B[0m\n",
       "\u001B[32m│\u001B[0m  \u001B[37mAgent: \u001B[0m\u001B[1;92mCreative Writer\u001B[0m                                                                                         \u001B[32m│\u001B[0m\n",
       "\u001B[32m│\u001B[0m                                                                                                                 \u001B[32m│\u001B[0m\n",
       "\u001B[32m│\u001B[0m  \u001B[37mFinal Answer:\u001B[0m                                                                                                  \u001B[32m│\u001B[0m\n",
       "\u001B[32m│\u001B[0m  \u001B[92m## The Road Ahead: Electric Vehicle Market in 2025\u001B[0m                                                             \u001B[32m│\u001B[0m\n",
       "\u001B[32m│\u001B[0m                                                                                                                 \u001B[32m│\u001B[0m\n",
       "\u001B[32m│\u001B[0m  \u001B[92mThe electric vehicle revolution is charging forward! Global passenger EV sales are projected to surge by 25% \u001B[0m  \u001B[32m│\u001B[0m\n",
       "\u001B[32m│\u001B[0m  \u001B[92min 2025, with a staggering 21.3 million units expected to be sold, capturing a 24% market share. The first \u001B[0m    \u001B[32m│\u001B[0m\n",
       "\u001B[32m│\u001B[0m  \u001B[92mquarter of 2025 alone saw a 42% year-on-year growth in global battery electric vehicle (BEV) sales, signaling\u001B[0m  \u001B[32m│\u001B[0m\n",
       "\u001B[32m│\u001B[0m  \u001B[92mstrong momentum. In the US, EVs are anticipated to represent approximately 8.5% of total car sales by the end\u001B[0m  \u001B[32m│\u001B[0m\n",
       "\u001B[32m│\u001B[0m  \u001B[92mof 2025. While major EV markets lead the charge, electric cars are also gaining traction elsewhere, expected \u001B[0m  \u001B[32m│\u001B[0m\n",
       "\u001B[32m│\u001B[0m  \u001B[92mto account for 6% of all car sales in other regions in 2025. The future is electric, and it's arriving faster\u001B[0m  \u001B[32m│\u001B[0m\n",
       "\u001B[32m│\u001B[0m  \u001B[92mthan ever!\u001B[0m                                                                                                     \u001B[32m│\u001B[0m\n",
       "\u001B[32m│\u001B[0m                                                                                                                 \u001B[32m│\u001B[0m\n",
       "\u001B[32m╰─────────────────────────────────────────────────────────────────────────────────────────────────────────────────╯\u001B[0m\n"
      ],
      "text/html": [
       "<pre style=\"white-space:pre;overflow-x:auto;line-height:normal;font-family:Menlo,'DejaVu Sans Mono',consolas,'Courier New',monospace\"><span style=\"color: #008000; text-decoration-color: #008000\">╭───────────────────────────────────────────── ✅ Agent Final Answer ─────────────────────────────────────────────╮</span>\n",
       "<span style=\"color: #008000; text-decoration-color: #008000\">│</span>                                                                                                                 <span style=\"color: #008000; text-decoration-color: #008000\">│</span>\n",
       "<span style=\"color: #008000; text-decoration-color: #008000\">│</span>  <span style=\"color: #c0c0c0; text-decoration-color: #c0c0c0\">Agent: </span><span style=\"color: #00ff00; text-decoration-color: #00ff00; font-weight: bold\">Creative Writer</span>                                                                                         <span style=\"color: #008000; text-decoration-color: #008000\">│</span>\n",
       "<span style=\"color: #008000; text-decoration-color: #008000\">│</span>                                                                                                                 <span style=\"color: #008000; text-decoration-color: #008000\">│</span>\n",
       "<span style=\"color: #008000; text-decoration-color: #008000\">│</span>  <span style=\"color: #c0c0c0; text-decoration-color: #c0c0c0\">Final Answer:</span>                                                                                                  <span style=\"color: #008000; text-decoration-color: #008000\">│</span>\n",
       "<span style=\"color: #008000; text-decoration-color: #008000\">│</span>  <span style=\"color: #00ff00; text-decoration-color: #00ff00\">## The Road Ahead: Electric Vehicle Market in 2025</span>                                                             <span style=\"color: #008000; text-decoration-color: #008000\">│</span>\n",
       "<span style=\"color: #008000; text-decoration-color: #008000\">│</span>                                                                                                                 <span style=\"color: #008000; text-decoration-color: #008000\">│</span>\n",
       "<span style=\"color: #008000; text-decoration-color: #008000\">│</span>  <span style=\"color: #00ff00; text-decoration-color: #00ff00\">The electric vehicle revolution is charging forward! Global passenger EV sales are projected to surge by 25% </span>  <span style=\"color: #008000; text-decoration-color: #008000\">│</span>\n",
       "<span style=\"color: #008000; text-decoration-color: #008000\">│</span>  <span style=\"color: #00ff00; text-decoration-color: #00ff00\">in 2025, with a staggering 21.3 million units expected to be sold, capturing a 24% market share. The first </span>    <span style=\"color: #008000; text-decoration-color: #008000\">│</span>\n",
       "<span style=\"color: #008000; text-decoration-color: #008000\">│</span>  <span style=\"color: #00ff00; text-decoration-color: #00ff00\">quarter of 2025 alone saw a 42% year-on-year growth in global battery electric vehicle (BEV) sales, signaling</span>  <span style=\"color: #008000; text-decoration-color: #008000\">│</span>\n",
       "<span style=\"color: #008000; text-decoration-color: #008000\">│</span>  <span style=\"color: #00ff00; text-decoration-color: #00ff00\">strong momentum. In the US, EVs are anticipated to represent approximately 8.5% of total car sales by the end</span>  <span style=\"color: #008000; text-decoration-color: #008000\">│</span>\n",
       "<span style=\"color: #008000; text-decoration-color: #008000\">│</span>  <span style=\"color: #00ff00; text-decoration-color: #00ff00\">of 2025. While major EV markets lead the charge, electric cars are also gaining traction elsewhere, expected </span>  <span style=\"color: #008000; text-decoration-color: #008000\">│</span>\n",
       "<span style=\"color: #008000; text-decoration-color: #008000\">│</span>  <span style=\"color: #00ff00; text-decoration-color: #00ff00\">to account for 6% of all car sales in other regions in 2025. The future is electric, and it's arriving faster</span>  <span style=\"color: #008000; text-decoration-color: #008000\">│</span>\n",
       "<span style=\"color: #008000; text-decoration-color: #008000\">│</span>  <span style=\"color: #00ff00; text-decoration-color: #00ff00\">than ever!</span>                                                                                                     <span style=\"color: #008000; text-decoration-color: #008000\">│</span>\n",
       "<span style=\"color: #008000; text-decoration-color: #008000\">│</span>                                                                                                                 <span style=\"color: #008000; text-decoration-color: #008000\">│</span>\n",
       "<span style=\"color: #008000; text-decoration-color: #008000\">╰─────────────────────────────────────────────────────────────────────────────────────────────────────────────────╯</span>\n",
       "</pre>\n"
      ]
     },
     "metadata": {},
     "output_type": "display_data"
    },
    {
     "data": {
      "text/plain": [
       "\n"
      ],
      "text/html": [
       "<pre style=\"white-space:pre;overflow-x:auto;line-height:normal;font-family:Menlo,'DejaVu Sans Mono',consolas,'Courier New',monospace\">\n",
       "</pre>\n"
      ]
     },
     "metadata": {},
     "output_type": "display_data"
    },
    {
     "data": {
      "text/plain": [],
      "text/html": [
       "<pre style=\"white-space:pre;overflow-x:auto;line-height:normal;font-family:Menlo,'DejaVu Sans Mono',consolas,'Courier New',monospace\"></pre>\n"
      ]
     },
     "metadata": {},
     "output_type": "display_data"
    },
    {
     "data": {
      "text/plain": [
       "\u001B[32m╭─\u001B[0m\u001B[32m───────────────────────────────────────────────\u001B[0m\u001B[32m Task Completion \u001B[0m\u001B[32m───────────────────────────────────────────────\u001B[0m\u001B[32m─╮\u001B[0m\n",
       "\u001B[32m│\u001B[0m                                                                                                                 \u001B[32m│\u001B[0m\n",
       "\u001B[32m│\u001B[0m  \u001B[1;32mTask Completed\u001B[0m                                                                                                 \u001B[32m│\u001B[0m\n",
       "\u001B[32m│\u001B[0m  \u001B[37mName: \u001B[0m\u001B[32m27542f68-2ac3-4dd1-bc33-af80623c84f7\u001B[0m                                                                     \u001B[32m│\u001B[0m\n",
       "\u001B[32m│\u001B[0m  \u001B[37mAgent: \u001B[0m\u001B[32mCreative Writer\u001B[0m                                                                                         \u001B[32m│\u001B[0m\n",
       "\u001B[32m│\u001B[0m  \u001B[37mTool Args: \u001B[0m                                                                                                    \u001B[32m│\u001B[0m\n",
       "\u001B[32m│\u001B[0m                                                                                                                 \u001B[32m│\u001B[0m\n",
       "\u001B[32m│\u001B[0m                                                                                                                 \u001B[32m│\u001B[0m\n",
       "\u001B[32m╰─────────────────────────────────────────────────────────────────────────────────────────────────────────────────╯\u001B[0m\n"
      ],
      "text/html": [
       "<pre style=\"white-space:pre;overflow-x:auto;line-height:normal;font-family:Menlo,'DejaVu Sans Mono',consolas,'Courier New',monospace\"><span style=\"color: #008000; text-decoration-color: #008000\">╭──────────────────────────────────────────────── Task Completion ────────────────────────────────────────────────╮</span>\n",
       "<span style=\"color: #008000; text-decoration-color: #008000\">│</span>                                                                                                                 <span style=\"color: #008000; text-decoration-color: #008000\">│</span>\n",
       "<span style=\"color: #008000; text-decoration-color: #008000\">│</span>  <span style=\"color: #008000; text-decoration-color: #008000; font-weight: bold\">Task Completed</span>                                                                                                 <span style=\"color: #008000; text-decoration-color: #008000\">│</span>\n",
       "<span style=\"color: #008000; text-decoration-color: #008000\">│</span>  <span style=\"color: #c0c0c0; text-decoration-color: #c0c0c0\">Name: </span><span style=\"color: #008000; text-decoration-color: #008000\">27542f68-2ac3-4dd1-bc33-af80623c84f7</span>                                                                     <span style=\"color: #008000; text-decoration-color: #008000\">│</span>\n",
       "<span style=\"color: #008000; text-decoration-color: #008000\">│</span>  <span style=\"color: #c0c0c0; text-decoration-color: #c0c0c0\">Agent: </span><span style=\"color: #008000; text-decoration-color: #008000\">Creative Writer</span>                                                                                         <span style=\"color: #008000; text-decoration-color: #008000\">│</span>\n",
       "<span style=\"color: #008000; text-decoration-color: #008000\">│</span>  <span style=\"color: #c0c0c0; text-decoration-color: #c0c0c0\">Tool Args: </span>                                                                                                    <span style=\"color: #008000; text-decoration-color: #008000\">│</span>\n",
       "<span style=\"color: #008000; text-decoration-color: #008000\">│</span>                                                                                                                 <span style=\"color: #008000; text-decoration-color: #008000\">│</span>\n",
       "<span style=\"color: #008000; text-decoration-color: #008000\">│</span>                                                                                                                 <span style=\"color: #008000; text-decoration-color: #008000\">│</span>\n",
       "<span style=\"color: #008000; text-decoration-color: #008000\">╰─────────────────────────────────────────────────────────────────────────────────────────────────────────────────╯</span>\n",
       "</pre>\n"
      ]
     },
     "metadata": {},
     "output_type": "display_data"
    },
    {
     "data": {
      "text/plain": [
       "\n"
      ],
      "text/html": [
       "<pre style=\"white-space:pre;overflow-x:auto;line-height:normal;font-family:Menlo,'DejaVu Sans Mono',consolas,'Courier New',monospace\">\n",
       "</pre>\n"
      ]
     },
     "metadata": {},
     "output_type": "display_data"
    },
    {
     "data": {
      "text/plain": [
       "\u001B[32m╭─\u001B[0m\u001B[32m───────────────────────────────────────────────\u001B[0m\u001B[32m Crew Completion \u001B[0m\u001B[32m───────────────────────────────────────────────\u001B[0m\u001B[32m─╮\u001B[0m\n",
       "\u001B[32m│\u001B[0m                                                                                                                 \u001B[32m│\u001B[0m\n",
       "\u001B[32m│\u001B[0m  \u001B[1;32mCrew Execution Completed\u001B[0m                                                                                       \u001B[32m│\u001B[0m\n",
       "\u001B[32m│\u001B[0m  \u001B[37mName: \u001B[0m\u001B[32mcrew\u001B[0m                                                                                                     \u001B[32m│\u001B[0m\n",
       "\u001B[32m│\u001B[0m  \u001B[37mID: \u001B[0m\u001B[32m3a57ffbd-f74d-4d29-9091-5dfb4918d5bc\u001B[0m                                                                       \u001B[32m│\u001B[0m\n",
       "\u001B[32m│\u001B[0m  \u001B[37mTool Args: \u001B[0m                                                                                                    \u001B[32m│\u001B[0m\n",
       "\u001B[32m│\u001B[0m  \u001B[37mFinal Output: ## The Road Ahead: Electric Vehicle Market in 2025\u001B[0m                                               \u001B[32m│\u001B[0m\n",
       "\u001B[32m│\u001B[0m                                                                                                                 \u001B[32m│\u001B[0m\n",
       "\u001B[32m│\u001B[0m  \u001B[37mThe electric vehicle revolution is charging forward! Global passenger EV sales are projected to surge by 25% \u001B[0m  \u001B[32m│\u001B[0m\n",
       "\u001B[32m│\u001B[0m  \u001B[37min 2025, with a staggering 21.3 million units expected to be sold, capturing a 24% market share. The first \u001B[0m    \u001B[32m│\u001B[0m\n",
       "\u001B[32m│\u001B[0m  \u001B[37mquarter of 2025 alone saw a 42% year-on-year growth in global battery electric vehicle (BEV) sales, signaling\u001B[0m  \u001B[32m│\u001B[0m\n",
       "\u001B[32m│\u001B[0m  \u001B[37mstrong momentum. In the US, EVs are anticipated to represent approximately 8.5% of total car sales by the end\u001B[0m  \u001B[32m│\u001B[0m\n",
       "\u001B[32m│\u001B[0m  \u001B[37mof 2025. While major EV markets lead the charge, electric cars are also gaining traction elsewhere, expected \u001B[0m  \u001B[32m│\u001B[0m\n",
       "\u001B[32m│\u001B[0m  \u001B[37mto account for 6% of all car sales in other regions in 2025. The future is electric, and it's arriving faster\u001B[0m  \u001B[32m│\u001B[0m\n",
       "\u001B[32m│\u001B[0m  \u001B[37mthan ever!\u001B[0m                                                                                                     \u001B[32m│\u001B[0m\n",
       "\u001B[32m│\u001B[0m                                                                                                                 \u001B[32m│\u001B[0m\n",
       "\u001B[32m│\u001B[0m                                                                                                                 \u001B[32m│\u001B[0m\n",
       "\u001B[32m╰─────────────────────────────────────────────────────────────────────────────────────────────────────────────────╯\u001B[0m\n"
      ],
      "text/html": [
       "<pre style=\"white-space:pre;overflow-x:auto;line-height:normal;font-family:Menlo,'DejaVu Sans Mono',consolas,'Courier New',monospace\"><span style=\"color: #008000; text-decoration-color: #008000\">╭──────────────────────────────────────────────── Crew Completion ────────────────────────────────────────────────╮</span>\n",
       "<span style=\"color: #008000; text-decoration-color: #008000\">│</span>                                                                                                                 <span style=\"color: #008000; text-decoration-color: #008000\">│</span>\n",
       "<span style=\"color: #008000; text-decoration-color: #008000\">│</span>  <span style=\"color: #008000; text-decoration-color: #008000; font-weight: bold\">Crew Execution Completed</span>                                                                                       <span style=\"color: #008000; text-decoration-color: #008000\">│</span>\n",
       "<span style=\"color: #008000; text-decoration-color: #008000\">│</span>  <span style=\"color: #c0c0c0; text-decoration-color: #c0c0c0\">Name: </span><span style=\"color: #008000; text-decoration-color: #008000\">crew</span>                                                                                                     <span style=\"color: #008000; text-decoration-color: #008000\">│</span>\n",
       "<span style=\"color: #008000; text-decoration-color: #008000\">│</span>  <span style=\"color: #c0c0c0; text-decoration-color: #c0c0c0\">ID: </span><span style=\"color: #008000; text-decoration-color: #008000\">3a57ffbd-f74d-4d29-9091-5dfb4918d5bc</span>                                                                       <span style=\"color: #008000; text-decoration-color: #008000\">│</span>\n",
       "<span style=\"color: #008000; text-decoration-color: #008000\">│</span>  <span style=\"color: #c0c0c0; text-decoration-color: #c0c0c0\">Tool Args: </span>                                                                                                    <span style=\"color: #008000; text-decoration-color: #008000\">│</span>\n",
       "<span style=\"color: #008000; text-decoration-color: #008000\">│</span>  <span style=\"color: #c0c0c0; text-decoration-color: #c0c0c0\">Final Output: ## The Road Ahead: Electric Vehicle Market in 2025</span>                                               <span style=\"color: #008000; text-decoration-color: #008000\">│</span>\n",
       "<span style=\"color: #008000; text-decoration-color: #008000\">│</span>                                                                                                                 <span style=\"color: #008000; text-decoration-color: #008000\">│</span>\n",
       "<span style=\"color: #008000; text-decoration-color: #008000\">│</span>  <span style=\"color: #c0c0c0; text-decoration-color: #c0c0c0\">The electric vehicle revolution is charging forward! Global passenger EV sales are projected to surge by 25% </span>  <span style=\"color: #008000; text-decoration-color: #008000\">│</span>\n",
       "<span style=\"color: #008000; text-decoration-color: #008000\">│</span>  <span style=\"color: #c0c0c0; text-decoration-color: #c0c0c0\">in 2025, with a staggering 21.3 million units expected to be sold, capturing a 24% market share. The first </span>    <span style=\"color: #008000; text-decoration-color: #008000\">│</span>\n",
       "<span style=\"color: #008000; text-decoration-color: #008000\">│</span>  <span style=\"color: #c0c0c0; text-decoration-color: #c0c0c0\">quarter of 2025 alone saw a 42% year-on-year growth in global battery electric vehicle (BEV) sales, signaling</span>  <span style=\"color: #008000; text-decoration-color: #008000\">│</span>\n",
       "<span style=\"color: #008000; text-decoration-color: #008000\">│</span>  <span style=\"color: #c0c0c0; text-decoration-color: #c0c0c0\">strong momentum. In the US, EVs are anticipated to represent approximately 8.5% of total car sales by the end</span>  <span style=\"color: #008000; text-decoration-color: #008000\">│</span>\n",
       "<span style=\"color: #008000; text-decoration-color: #008000\">│</span>  <span style=\"color: #c0c0c0; text-decoration-color: #c0c0c0\">of 2025. While major EV markets lead the charge, electric cars are also gaining traction elsewhere, expected </span>  <span style=\"color: #008000; text-decoration-color: #008000\">│</span>\n",
       "<span style=\"color: #008000; text-decoration-color: #008000\">│</span>  <span style=\"color: #c0c0c0; text-decoration-color: #c0c0c0\">to account for 6% of all car sales in other regions in 2025. The future is electric, and it's arriving faster</span>  <span style=\"color: #008000; text-decoration-color: #008000\">│</span>\n",
       "<span style=\"color: #008000; text-decoration-color: #008000\">│</span>  <span style=\"color: #c0c0c0; text-decoration-color: #c0c0c0\">than ever!</span>                                                                                                     <span style=\"color: #008000; text-decoration-color: #008000\">│</span>\n",
       "<span style=\"color: #008000; text-decoration-color: #008000\">│</span>                                                                                                                 <span style=\"color: #008000; text-decoration-color: #008000\">│</span>\n",
       "<span style=\"color: #008000; text-decoration-color: #008000\">│</span>                                                                                                                 <span style=\"color: #008000; text-decoration-color: #008000\">│</span>\n",
       "<span style=\"color: #008000; text-decoration-color: #008000\">╰─────────────────────────────────────────────────────────────────────────────────────────────────────────────────╯</span>\n",
       "</pre>\n"
      ]
     },
     "metadata": {},
     "output_type": "display_data"
    },
    {
     "data": {
      "text/plain": [
       "\n"
      ],
      "text/html": [
       "<pre style=\"white-space:pre;overflow-x:auto;line-height:normal;font-family:Menlo,'DejaVu Sans Mono',consolas,'Courier New',monospace\">\n",
       "</pre>\n"
      ]
     },
     "metadata": {},
     "output_type": "display_data"
    },
    {
     "data": {
      "text/plain": [
       "CrewOutput(raw=\"## The Road Ahead: Electric Vehicle Market in 2025\\n\\nThe electric vehicle revolution is charging forward! Global passenger EV sales are projected to surge by 25% in 2025, with a staggering 21.3 million units expected to be sold, capturing a 24% market share. The first quarter of 2025 alone saw a 42% year-on-year growth in global battery electric vehicle (BEV) sales, signaling strong momentum. In the US, EVs are anticipated to represent approximately 8.5% of total car sales by the end of 2025. While major EV markets lead the charge, electric cars are also gaining traction elsewhere, expected to account for 6% of all car sales in other regions in 2025. The future is electric, and it's arriving faster than ever!\", pydantic=None, json_dict=None, tasks_output=[TaskOutput(description='Find 3-5 interesting and recent facts about The future of electrical vehicles as of year 2025.', name=None, expected_output='A bullet list of 3-5 facts', summary='Find 3-5 interesting and recent facts about The future of...', raw='*   Global passenger EV sales are expected to grow by 25% in 2025.\\n*   The US EV market share is expected to be around 8.5% of total sales by the end of 2025.\\n*   Global EV sales are projected to reach 21.3 million units in 2025, representing a 24% market share.\\n*   The first quarter of 2025 saw a 42% year-on-year growth in global battery electric vehicle (BEV) sales.\\n*   Outside of the major EV markets, electric cars are expected to account for 6% of all car sales in 2025.', pydantic=None, json_dict=None, agent='Research Specialist', output_format=<OutputFormat.RAW: 'raw'>), TaskOutput(description='Write a 100-word blog post summary about The future of electrical vehicles using the facts from the research.', name=None, expected_output='A blog post summary', summary='Write a 100-word blog post summary about The future of...', raw=\"## The Road Ahead: Electric Vehicle Market in 2025\\n\\nThe electric vehicle revolution is charging forward! Global passenger EV sales are projected to surge by 25% in 2025, with a staggering 21.3 million units expected to be sold, capturing a 24% market share. The first quarter of 2025 alone saw a 42% year-on-year growth in global battery electric vehicle (BEV) sales, signaling strong momentum. In the US, EVs are anticipated to represent approximately 8.5% of total car sales by the end of 2025. While major EV markets lead the charge, electric cars are also gaining traction elsewhere, expected to account for 6% of all car sales in other regions in 2025. The future is electric, and it's arriving faster than ever!\", pydantic=None, json_dict=None, agent='Creative Writer', output_format=<OutputFormat.RAW: 'raw'>)], token_usage=UsageMetrics(total_tokens=6625, prompt_tokens=6071, cached_prompt_tokens=0, completion_tokens=554, successful_requests=4))"
      ]
     },
     "execution_count": 4,
     "metadata": {},
     "output_type": "execute_result"
    }
   ],
   "execution_count": 4
  },
  {
   "metadata": {
    "ExecuteTime": {
     "end_time": "2025-08-28T00:10:53.838552Z",
     "start_time": "2025-08-28T00:10:53.835307Z"
    }
   },
   "cell_type": "code",
   "source": "",
   "id": "ac9d19236f50e723",
   "outputs": [],
   "execution_count": null
  },
  {
   "metadata": {
    "ExecuteTime": {
     "end_time": "2025-08-27T23:31:17.734711Z",
     "start_time": "2025-08-27T23:31:17.731423Z"
    }
   },
   "cell_type": "code",
   "source": "",
   "id": "d42bc4f4d7462164",
   "outputs": [],
   "execution_count": null
  },
  {
   "metadata": {},
   "cell_type": "code",
   "outputs": [],
   "execution_count": null,
   "source": "",
   "id": "c41a75a43bd7c92a"
  }
 ],
 "metadata": {
  "kernelspec": {
   "display_name": "Python 3",
   "language": "python",
   "name": "python3"
  },
  "language_info": {
   "codemirror_mode": {
    "name": "ipython",
    "version": 2
   },
   "file_extension": ".py",
   "mimetype": "text/x-python",
   "name": "python",
   "nbconvert_exporter": "python",
   "pygments_lexer": "ipython2",
   "version": "2.7.6"
  }
 },
 "nbformat": 4,
 "nbformat_minor": 5
}
