{
 "cells": [
  {
   "cell_type": "code",
   "id": "initial_id",
   "metadata": {
    "collapsed": true,
    "ExecuteTime": {
     "end_time": "2025-08-27T23:05:59.034497Z",
     "start_time": "2025-08-27T23:05:59.017401Z"
    }
   },
   "source": [
    "from dotenv import load_dotenv\n",
    "load_dotenv()"
   ],
   "outputs": [
    {
     "data": {
      "text/plain": [
       "True"
      ]
     },
     "execution_count": 11,
     "metadata": {},
     "output_type": "execute_result"
    }
   ],
   "execution_count": 11
  },
  {
   "metadata": {
    "ExecuteTime": {
     "end_time": "2025-08-27T23:06:01.244248Z",
     "start_time": "2025-08-27T23:06:00.100380Z"
    }
   },
   "cell_type": "code",
   "source": [
    "from crewai import LLM\n",
    "\n",
    "llm = LLM(\n",
    "    model=\"gemini/gemini-2.0-flash\",\n",
    "    temperature=0.1\n",
    ")\n",
    "llm.call(\"Who invented transcendental meditation.\")"
   ],
   "id": "3375cfe73b2aef0",
   "outputs": [
    {
     "data": {
      "text/plain": [
       "'Transcendental Meditation (TM) was popularized by **Maharishi Mahesh Yogi**.\\n'"
      ]
     },
     "execution_count": 12,
     "metadata": {},
     "output_type": "execute_result"
    },
    {
     "data": {
      "text/plain": [
       "/Users/ayushbasist/crewproject/.venv/lib/python3.10/site-packages/rich/live.py:231: UserWarning: install \n",
       "\"ipywidgets\" for Jupyter support\n",
       "  warnings.warn('install \"ipywidgets\" for Jupyter support')\n"
      ],
      "text/html": [
       "<pre style=\"white-space:pre;overflow-x:auto;line-height:normal;font-family:Menlo,'DejaVu Sans Mono',consolas,'Courier New',monospace\">/Users/ayushbasist/crewproject/.venv/lib/python3.10/site-packages/rich/live.py:231: UserWarning: install \n",
       "\"ipywidgets\" for Jupyter support\n",
       "  warnings.warn('install \"ipywidgets\" for Jupyter support')\n",
       "</pre>\n"
      ]
     },
     "metadata": {},
     "output_type": "display_data"
    }
   ],
   "execution_count": 12
  },
  {
   "metadata": {
    "ExecuteTime": {
     "end_time": "2025-08-28T00:22:14.232281Z",
     "start_time": "2025-08-27T23:05:48.323998Z"
    }
   },
   "cell_type": "code",
   "source": [
    "from crewai import Agent, Task, Crew\n",
    "\n",
    "email_assistant = Agent(\n",
    "    role=\"Email Assistant Agent\",\n",
    "    goal=\"Improve emails and make them sound professional and clear\",\n",
    "    backstory=\"A highly experienced communication expert skilled in professional email writing\",\n",
    "    verbose=True,\n",
    "    llm=llm\n",
    ")\n",
    "\n",
    "original_email = \"\"\"\n",
    "hey team, just wanted to tell u that the demo is kind of ready, but there's still stuff left.\n",
    "Maybe we can show what we have and say rest is WIP.\n",
    "Let me know what u think. thanks\n",
    "\"\"\"\n",
    "\n",
    "email_task = Task(\n",
    "    description=f\"\"\"Take the following rough email and rewrite it into a professional and polished version.\n",
    "    Expand abbreviations:\n",
    "    '''{original_email}'''\"\"\",\n",
    "    agent=email_assistant,\n",
    "    expected_output=\"A professional written email with proper formatting and content.\",\n",
    ")\n",
    "\n",
    "crew = Crew(\n",
    "    agents=[email_assistant],\n",
    "    tasks=[email_task],\n",
    "    verbose=True\n",
    ")\n",
    "\n",
    "result = crew.kickoff()\n",
    "print(result)"
   ],
   "id": "fba4dd68e5c3e1bc",
   "outputs": [
    {
     "data": {
      "text/plain": [
       "\u001B[36m╭─\u001B[0m\u001B[36m───────────────────────────────────────────\u001B[0m\u001B[36m Crew Execution Started \u001B[0m\u001B[36m────────────────────────────────────────────\u001B[0m\u001B[36m─╮\u001B[0m\n",
       "\u001B[36m│\u001B[0m                                                                                                                 \u001B[36m│\u001B[0m\n",
       "\u001B[36m│\u001B[0m  \u001B[1;36mCrew Execution Started\u001B[0m                                                                                         \u001B[36m│\u001B[0m\n",
       "\u001B[36m│\u001B[0m  \u001B[37mName: \u001B[0m\u001B[36mcrew\u001B[0m                                                                                                     \u001B[36m│\u001B[0m\n",
       "\u001B[36m│\u001B[0m  \u001B[37mID: \u001B[0m\u001B[36ma4c0e0ae-f3e3-4137-b028-6c5e4b7f0f4d\u001B[0m                                                                       \u001B[36m│\u001B[0m\n",
       "\u001B[36m│\u001B[0m  \u001B[37mTool Args: \u001B[0m                                                                                                    \u001B[36m│\u001B[0m\n",
       "\u001B[36m│\u001B[0m                                                                                                                 \u001B[36m│\u001B[0m\n",
       "\u001B[36m│\u001B[0m                                                                                                                 \u001B[36m│\u001B[0m\n",
       "\u001B[36m╰─────────────────────────────────────────────────────────────────────────────────────────────────────────────────╯\u001B[0m\n"
      ],
      "text/html": [
       "<pre style=\"white-space:pre;overflow-x:auto;line-height:normal;font-family:Menlo,'DejaVu Sans Mono',consolas,'Courier New',monospace\"><span style=\"color: #008080; text-decoration-color: #008080\">╭──────────────────────────────────────────── Crew Execution Started ─────────────────────────────────────────────╮</span>\n",
       "<span style=\"color: #008080; text-decoration-color: #008080\">│</span>                                                                                                                 <span style=\"color: #008080; text-decoration-color: #008080\">│</span>\n",
       "<span style=\"color: #008080; text-decoration-color: #008080\">│</span>  <span style=\"color: #008080; text-decoration-color: #008080; font-weight: bold\">Crew Execution Started</span>                                                                                         <span style=\"color: #008080; text-decoration-color: #008080\">│</span>\n",
       "<span style=\"color: #008080; text-decoration-color: #008080\">│</span>  <span style=\"color: #c0c0c0; text-decoration-color: #c0c0c0\">Name: </span><span style=\"color: #008080; text-decoration-color: #008080\">crew</span>                                                                                                     <span style=\"color: #008080; text-decoration-color: #008080\">│</span>\n",
       "<span style=\"color: #008080; text-decoration-color: #008080\">│</span>  <span style=\"color: #c0c0c0; text-decoration-color: #c0c0c0\">ID: </span><span style=\"color: #008080; text-decoration-color: #008080\">a4c0e0ae-f3e3-4137-b028-6c5e4b7f0f4d</span>                                                                       <span style=\"color: #008080; text-decoration-color: #008080\">│</span>\n",
       "<span style=\"color: #008080; text-decoration-color: #008080\">│</span>  <span style=\"color: #c0c0c0; text-decoration-color: #c0c0c0\">Tool Args: </span>                                                                                                    <span style=\"color: #008080; text-decoration-color: #008080\">│</span>\n",
       "<span style=\"color: #008080; text-decoration-color: #008080\">│</span>                                                                                                                 <span style=\"color: #008080; text-decoration-color: #008080\">│</span>\n",
       "<span style=\"color: #008080; text-decoration-color: #008080\">│</span>                                                                                                                 <span style=\"color: #008080; text-decoration-color: #008080\">│</span>\n",
       "<span style=\"color: #008080; text-decoration-color: #008080\">╰─────────────────────────────────────────────────────────────────────────────────────────────────────────────────╯</span>\n",
       "</pre>\n"
      ]
     },
     "metadata": {},
     "output_type": "display_data"
    },
    {
     "data": {
      "text/plain": [
       "\n"
      ],
      "text/html": [
       "<pre style=\"white-space:pre;overflow-x:auto;line-height:normal;font-family:Menlo,'DejaVu Sans Mono',consolas,'Courier New',monospace\">\n",
       "</pre>\n"
      ]
     },
     "metadata": {},
     "output_type": "display_data"
    },
    {
     "data": {
      "text/plain": [],
      "text/html": [
       "<pre style=\"white-space:pre;overflow-x:auto;line-height:normal;font-family:Menlo,'DejaVu Sans Mono',consolas,'Courier New',monospace\"></pre>\n"
      ]
     },
     "metadata": {},
     "output_type": "display_data"
    },
    {
     "data": {
      "text/plain": [
       "\u001B[35m╭─\u001B[0m\u001B[35m──────────────────────────────────────────────\u001B[0m\u001B[35m 🤖 Agent Started \u001B[0m\u001B[35m───────────────────────────────────────────────\u001B[0m\u001B[35m─╮\u001B[0m\n",
       "\u001B[35m│\u001B[0m                                                                                                                 \u001B[35m│\u001B[0m\n",
       "\u001B[35m│\u001B[0m  \u001B[37mAgent: \u001B[0m\u001B[1;92mEmail Assistant Agent\u001B[0m                                                                                   \u001B[35m│\u001B[0m\n",
       "\u001B[35m│\u001B[0m                                                                                                                 \u001B[35m│\u001B[0m\n",
       "\u001B[35m│\u001B[0m  \u001B[37mTask: \u001B[0m\u001B[92mTake the following rough email and rewrite it into a professional and polished version.\u001B[0m                  \u001B[35m│\u001B[0m\n",
       "\u001B[35m│\u001B[0m  \u001B[92m    Expand abbreviations:\u001B[0m                                                                                      \u001B[35m│\u001B[0m\n",
       "\u001B[35m│\u001B[0m  \u001B[92m    '''\u001B[0m                                                                                                        \u001B[35m│\u001B[0m\n",
       "\u001B[35m│\u001B[0m  \u001B[92mhey team, just wanted to tell u that the demo is kind of ready, but there's still stuff left.\u001B[0m                  \u001B[35m│\u001B[0m\n",
       "\u001B[35m│\u001B[0m  \u001B[92mMaybe we can show what we have and say rest is WIP.\u001B[0m                                                            \u001B[35m│\u001B[0m\n",
       "\u001B[35m│\u001B[0m  \u001B[92mLet me know what u think. thanks\u001B[0m                                                                               \u001B[35m│\u001B[0m\n",
       "\u001B[35m│\u001B[0m  \u001B[92m'''\u001B[0m                                                                                                            \u001B[35m│\u001B[0m\n",
       "\u001B[35m│\u001B[0m                                                                                                                 \u001B[35m│\u001B[0m\n",
       "\u001B[35m╰─────────────────────────────────────────────────────────────────────────────────────────────────────────────────╯\u001B[0m\n"
      ],
      "text/html": [
       "<pre style=\"white-space:pre;overflow-x:auto;line-height:normal;font-family:Menlo,'DejaVu Sans Mono',consolas,'Courier New',monospace\"><span style=\"color: #800080; text-decoration-color: #800080\">╭─────────────────────────────────────────────── 🤖 Agent Started ────────────────────────────────────────────────╮</span>\n",
       "<span style=\"color: #800080; text-decoration-color: #800080\">│</span>                                                                                                                 <span style=\"color: #800080; text-decoration-color: #800080\">│</span>\n",
       "<span style=\"color: #800080; text-decoration-color: #800080\">│</span>  <span style=\"color: #c0c0c0; text-decoration-color: #c0c0c0\">Agent: </span><span style=\"color: #00ff00; text-decoration-color: #00ff00; font-weight: bold\">Email Assistant Agent</span>                                                                                   <span style=\"color: #800080; text-decoration-color: #800080\">│</span>\n",
       "<span style=\"color: #800080; text-decoration-color: #800080\">│</span>                                                                                                                 <span style=\"color: #800080; text-decoration-color: #800080\">│</span>\n",
       "<span style=\"color: #800080; text-decoration-color: #800080\">│</span>  <span style=\"color: #c0c0c0; text-decoration-color: #c0c0c0\">Task: </span><span style=\"color: #00ff00; text-decoration-color: #00ff00\">Take the following rough email and rewrite it into a professional and polished version.</span>                  <span style=\"color: #800080; text-decoration-color: #800080\">│</span>\n",
       "<span style=\"color: #800080; text-decoration-color: #800080\">│</span>  <span style=\"color: #00ff00; text-decoration-color: #00ff00\">    Expand abbreviations:</span>                                                                                      <span style=\"color: #800080; text-decoration-color: #800080\">│</span>\n",
       "<span style=\"color: #800080; text-decoration-color: #800080\">│</span>  <span style=\"color: #00ff00; text-decoration-color: #00ff00\">    '''</span>                                                                                                        <span style=\"color: #800080; text-decoration-color: #800080\">│</span>\n",
       "<span style=\"color: #800080; text-decoration-color: #800080\">│</span>  <span style=\"color: #00ff00; text-decoration-color: #00ff00\">hey team, just wanted to tell u that the demo is kind of ready, but there's still stuff left.</span>                  <span style=\"color: #800080; text-decoration-color: #800080\">│</span>\n",
       "<span style=\"color: #800080; text-decoration-color: #800080\">│</span>  <span style=\"color: #00ff00; text-decoration-color: #00ff00\">Maybe we can show what we have and say rest is WIP.</span>                                                            <span style=\"color: #800080; text-decoration-color: #800080\">│</span>\n",
       "<span style=\"color: #800080; text-decoration-color: #800080\">│</span>  <span style=\"color: #00ff00; text-decoration-color: #00ff00\">Let me know what u think. thanks</span>                                                                               <span style=\"color: #800080; text-decoration-color: #800080\">│</span>\n",
       "<span style=\"color: #800080; text-decoration-color: #800080\">│</span>  <span style=\"color: #00ff00; text-decoration-color: #00ff00\">'''</span>                                                                                                            <span style=\"color: #800080; text-decoration-color: #800080\">│</span>\n",
       "<span style=\"color: #800080; text-decoration-color: #800080\">│</span>                                                                                                                 <span style=\"color: #800080; text-decoration-color: #800080\">│</span>\n",
       "<span style=\"color: #800080; text-decoration-color: #800080\">╰─────────────────────────────────────────────────────────────────────────────────────────────────────────────────╯</span>\n",
       "</pre>\n"
      ]
     },
     "metadata": {},
     "output_type": "display_data"
    },
    {
     "data": {
      "text/plain": [
       "\n"
      ],
      "text/html": [
       "<pre style=\"white-space:pre;overflow-x:auto;line-height:normal;font-family:Menlo,'DejaVu Sans Mono',consolas,'Courier New',monospace\">\n",
       "</pre>\n"
      ]
     },
     "metadata": {},
     "output_type": "display_data"
    },
    {
     "data": {
      "text/plain": [],
      "text/html": [
       "<pre style=\"white-space:pre;overflow-x:auto;line-height:normal;font-family:Menlo,'DejaVu Sans Mono',consolas,'Courier New',monospace\"></pre>\n"
      ]
     },
     "metadata": {},
     "output_type": "display_data"
    },
    {
     "data": {
      "text/plain": [
       "\u001B[32m╭─\u001B[0m\u001B[32m────────────────────────────────────────────\u001B[0m\u001B[32m ✅ Agent Final Answer \u001B[0m\u001B[32m────────────────────────────────────────────\u001B[0m\u001B[32m─╮\u001B[0m\n",
       "\u001B[32m│\u001B[0m                                                                                                                 \u001B[32m│\u001B[0m\n",
       "\u001B[32m│\u001B[0m  \u001B[37mAgent: \u001B[0m\u001B[1;92mEmail Assistant Agent\u001B[0m                                                                                   \u001B[32m│\u001B[0m\n",
       "\u001B[32m│\u001B[0m                                                                                                                 \u001B[32m│\u001B[0m\n",
       "\u001B[32m│\u001B[0m  \u001B[37mFinal Answer:\u001B[0m                                                                                                  \u001B[32m│\u001B[0m\n",
       "\u001B[32m│\u001B[0m  \u001B[92m```email\u001B[0m                                                                                                       \u001B[32m│\u001B[0m\n",
       "\u001B[32m│\u001B[0m  \u001B[92mSubject: Demo Readiness and Next Steps\u001B[0m                                                                         \u001B[32m│\u001B[0m\n",
       "\u001B[32m│\u001B[0m                                                                                                                 \u001B[32m│\u001B[0m\n",
       "\u001B[32m│\u001B[0m  \u001B[92mDear Team,\u001B[0m                                                                                                     \u001B[32m│\u001B[0m\n",
       "\u001B[32m│\u001B[0m                                                                                                                 \u001B[32m│\u001B[0m\n",
       "\u001B[32m│\u001B[0m  \u001B[92mI am writing to provide an update on the demo. While it is nearing completion, there are still some \u001B[0m           \u001B[32m│\u001B[0m\n",
       "\u001B[32m│\u001B[0m  \u001B[92moutstanding items.\u001B[0m                                                                                             \u001B[32m│\u001B[0m\n",
       "\u001B[32m│\u001B[0m                                                                                                                 \u001B[32m│\u001B[0m\n",
       "\u001B[32m│\u001B[0m  \u001B[92mI propose that we present the current version of the demo, clearly indicating that the remaining features are\u001B[0m  \u001B[32m│\u001B[0m\n",
       "\u001B[32m│\u001B[0m  \u001B[92mwork in progress (WIP). This will allow stakeholders to see the progress we have made and provide valuable \u001B[0m    \u001B[32m│\u001B[0m\n",
       "\u001B[32m│\u001B[0m  \u001B[92mfeedback.\u001B[0m                                                                                                      \u001B[32m│\u001B[0m\n",
       "\u001B[32m│\u001B[0m                                                                                                                 \u001B[32m│\u001B[0m\n",
       "\u001B[32m│\u001B[0m  \u001B[92mPlease let me know your thoughts on this approach.\u001B[0m                                                             \u001B[32m│\u001B[0m\n",
       "\u001B[32m│\u001B[0m                                                                                                                 \u001B[32m│\u001B[0m\n",
       "\u001B[32m│\u001B[0m  \u001B[92mThank you,\u001B[0m                                                                                                     \u001B[32m│\u001B[0m\n",
       "\u001B[32m│\u001B[0m                                                                                                                 \u001B[32m│\u001B[0m\n",
       "\u001B[32m│\u001B[0m  \u001B[92m[Your Name]\u001B[0m                                                                                                    \u001B[32m│\u001B[0m\n",
       "\u001B[32m│\u001B[0m  \u001B[92m```\u001B[0m                                                                                                            \u001B[32m│\u001B[0m\n",
       "\u001B[32m│\u001B[0m                                                                                                                 \u001B[32m│\u001B[0m\n",
       "\u001B[32m╰─────────────────────────────────────────────────────────────────────────────────────────────────────────────────╯\u001B[0m\n"
      ],
      "text/html": [
       "<pre style=\"white-space:pre;overflow-x:auto;line-height:normal;font-family:Menlo,'DejaVu Sans Mono',consolas,'Courier New',monospace\"><span style=\"color: #008000; text-decoration-color: #008000\">╭───────────────────────────────────────────── ✅ Agent Final Answer ─────────────────────────────────────────────╮</span>\n",
       "<span style=\"color: #008000; text-decoration-color: #008000\">│</span>                                                                                                                 <span style=\"color: #008000; text-decoration-color: #008000\">│</span>\n",
       "<span style=\"color: #008000; text-decoration-color: #008000\">│</span>  <span style=\"color: #c0c0c0; text-decoration-color: #c0c0c0\">Agent: </span><span style=\"color: #00ff00; text-decoration-color: #00ff00; font-weight: bold\">Email Assistant Agent</span>                                                                                   <span style=\"color: #008000; text-decoration-color: #008000\">│</span>\n",
       "<span style=\"color: #008000; text-decoration-color: #008000\">│</span>                                                                                                                 <span style=\"color: #008000; text-decoration-color: #008000\">│</span>\n",
       "<span style=\"color: #008000; text-decoration-color: #008000\">│</span>  <span style=\"color: #c0c0c0; text-decoration-color: #c0c0c0\">Final Answer:</span>                                                                                                  <span style=\"color: #008000; text-decoration-color: #008000\">│</span>\n",
       "<span style=\"color: #008000; text-decoration-color: #008000\">│</span>  <span style=\"color: #00ff00; text-decoration-color: #00ff00\">```email</span>                                                                                                       <span style=\"color: #008000; text-decoration-color: #008000\">│</span>\n",
       "<span style=\"color: #008000; text-decoration-color: #008000\">│</span>  <span style=\"color: #00ff00; text-decoration-color: #00ff00\">Subject: Demo Readiness and Next Steps</span>                                                                         <span style=\"color: #008000; text-decoration-color: #008000\">│</span>\n",
       "<span style=\"color: #008000; text-decoration-color: #008000\">│</span>                                                                                                                 <span style=\"color: #008000; text-decoration-color: #008000\">│</span>\n",
       "<span style=\"color: #008000; text-decoration-color: #008000\">│</span>  <span style=\"color: #00ff00; text-decoration-color: #00ff00\">Dear Team,</span>                                                                                                     <span style=\"color: #008000; text-decoration-color: #008000\">│</span>\n",
       "<span style=\"color: #008000; text-decoration-color: #008000\">│</span>                                                                                                                 <span style=\"color: #008000; text-decoration-color: #008000\">│</span>\n",
       "<span style=\"color: #008000; text-decoration-color: #008000\">│</span>  <span style=\"color: #00ff00; text-decoration-color: #00ff00\">I am writing to provide an update on the demo. While it is nearing completion, there are still some </span>           <span style=\"color: #008000; text-decoration-color: #008000\">│</span>\n",
       "<span style=\"color: #008000; text-decoration-color: #008000\">│</span>  <span style=\"color: #00ff00; text-decoration-color: #00ff00\">outstanding items.</span>                                                                                             <span style=\"color: #008000; text-decoration-color: #008000\">│</span>\n",
       "<span style=\"color: #008000; text-decoration-color: #008000\">│</span>                                                                                                                 <span style=\"color: #008000; text-decoration-color: #008000\">│</span>\n",
       "<span style=\"color: #008000; text-decoration-color: #008000\">│</span>  <span style=\"color: #00ff00; text-decoration-color: #00ff00\">I propose that we present the current version of the demo, clearly indicating that the remaining features are</span>  <span style=\"color: #008000; text-decoration-color: #008000\">│</span>\n",
       "<span style=\"color: #008000; text-decoration-color: #008000\">│</span>  <span style=\"color: #00ff00; text-decoration-color: #00ff00\">work in progress (WIP). This will allow stakeholders to see the progress we have made and provide valuable </span>    <span style=\"color: #008000; text-decoration-color: #008000\">│</span>\n",
       "<span style=\"color: #008000; text-decoration-color: #008000\">│</span>  <span style=\"color: #00ff00; text-decoration-color: #00ff00\">feedback.</span>                                                                                                      <span style=\"color: #008000; text-decoration-color: #008000\">│</span>\n",
       "<span style=\"color: #008000; text-decoration-color: #008000\">│</span>                                                                                                                 <span style=\"color: #008000; text-decoration-color: #008000\">│</span>\n",
       "<span style=\"color: #008000; text-decoration-color: #008000\">│</span>  <span style=\"color: #00ff00; text-decoration-color: #00ff00\">Please let me know your thoughts on this approach.</span>                                                             <span style=\"color: #008000; text-decoration-color: #008000\">│</span>\n",
       "<span style=\"color: #008000; text-decoration-color: #008000\">│</span>                                                                                                                 <span style=\"color: #008000; text-decoration-color: #008000\">│</span>\n",
       "<span style=\"color: #008000; text-decoration-color: #008000\">│</span>  <span style=\"color: #00ff00; text-decoration-color: #00ff00\">Thank you,</span>                                                                                                     <span style=\"color: #008000; text-decoration-color: #008000\">│</span>\n",
       "<span style=\"color: #008000; text-decoration-color: #008000\">│</span>                                                                                                                 <span style=\"color: #008000; text-decoration-color: #008000\">│</span>\n",
       "<span style=\"color: #008000; text-decoration-color: #008000\">│</span>  <span style=\"color: #00ff00; text-decoration-color: #00ff00\">[Your Name]</span>                                                                                                    <span style=\"color: #008000; text-decoration-color: #008000\">│</span>\n",
       "<span style=\"color: #008000; text-decoration-color: #008000\">│</span>  <span style=\"color: #00ff00; text-decoration-color: #00ff00\">```</span>                                                                                                            <span style=\"color: #008000; text-decoration-color: #008000\">│</span>\n",
       "<span style=\"color: #008000; text-decoration-color: #008000\">│</span>                                                                                                                 <span style=\"color: #008000; text-decoration-color: #008000\">│</span>\n",
       "<span style=\"color: #008000; text-decoration-color: #008000\">╰─────────────────────────────────────────────────────────────────────────────────────────────────────────────────╯</span>\n",
       "</pre>\n"
      ]
     },
     "metadata": {},
     "output_type": "display_data"
    },
    {
     "data": {
      "text/plain": [
       "\n"
      ],
      "text/html": [
       "<pre style=\"white-space:pre;overflow-x:auto;line-height:normal;font-family:Menlo,'DejaVu Sans Mono',consolas,'Courier New',monospace\">\n",
       "</pre>\n"
      ]
     },
     "metadata": {},
     "output_type": "display_data"
    },
    {
     "data": {
      "text/plain": [],
      "text/html": [
       "<pre style=\"white-space:pre;overflow-x:auto;line-height:normal;font-family:Menlo,'DejaVu Sans Mono',consolas,'Courier New',monospace\"></pre>\n"
      ]
     },
     "metadata": {},
     "output_type": "display_data"
    },
    {
     "data": {
      "text/plain": [
       "\u001B[32m╭─\u001B[0m\u001B[32m───────────────────────────────────────────────\u001B[0m\u001B[32m Task Completion \u001B[0m\u001B[32m───────────────────────────────────────────────\u001B[0m\u001B[32m─╮\u001B[0m\n",
       "\u001B[32m│\u001B[0m                                                                                                                 \u001B[32m│\u001B[0m\n",
       "\u001B[32m│\u001B[0m  \u001B[1;32mTask Completed\u001B[0m                                                                                                 \u001B[32m│\u001B[0m\n",
       "\u001B[32m│\u001B[0m  \u001B[37mName: \u001B[0m\u001B[32m53c58c19-2131-4ef5-8c5b-3751804e013c\u001B[0m                                                                     \u001B[32m│\u001B[0m\n",
       "\u001B[32m│\u001B[0m  \u001B[37mAgent: \u001B[0m\u001B[32mEmail Assistant Agent\u001B[0m                                                                                   \u001B[32m│\u001B[0m\n",
       "\u001B[32m│\u001B[0m  \u001B[37mTool Args: \u001B[0m                                                                                                    \u001B[32m│\u001B[0m\n",
       "\u001B[32m│\u001B[0m                                                                                                                 \u001B[32m│\u001B[0m\n",
       "\u001B[32m│\u001B[0m                                                                                                                 \u001B[32m│\u001B[0m\n",
       "\u001B[32m╰─────────────────────────────────────────────────────────────────────────────────────────────────────────────────╯\u001B[0m\n"
      ],
      "text/html": [
       "<pre style=\"white-space:pre;overflow-x:auto;line-height:normal;font-family:Menlo,'DejaVu Sans Mono',consolas,'Courier New',monospace\"><span style=\"color: #008000; text-decoration-color: #008000\">╭──────────────────────────────────────────────── Task Completion ────────────────────────────────────────────────╮</span>\n",
       "<span style=\"color: #008000; text-decoration-color: #008000\">│</span>                                                                                                                 <span style=\"color: #008000; text-decoration-color: #008000\">│</span>\n",
       "<span style=\"color: #008000; text-decoration-color: #008000\">│</span>  <span style=\"color: #008000; text-decoration-color: #008000; font-weight: bold\">Task Completed</span>                                                                                                 <span style=\"color: #008000; text-decoration-color: #008000\">│</span>\n",
       "<span style=\"color: #008000; text-decoration-color: #008000\">│</span>  <span style=\"color: #c0c0c0; text-decoration-color: #c0c0c0\">Name: </span><span style=\"color: #008000; text-decoration-color: #008000\">53c58c19-2131-4ef5-8c5b-3751804e013c</span>                                                                     <span style=\"color: #008000; text-decoration-color: #008000\">│</span>\n",
       "<span style=\"color: #008000; text-decoration-color: #008000\">│</span>  <span style=\"color: #c0c0c0; text-decoration-color: #c0c0c0\">Agent: </span><span style=\"color: #008000; text-decoration-color: #008000\">Email Assistant Agent</span>                                                                                   <span style=\"color: #008000; text-decoration-color: #008000\">│</span>\n",
       "<span style=\"color: #008000; text-decoration-color: #008000\">│</span>  <span style=\"color: #c0c0c0; text-decoration-color: #c0c0c0\">Tool Args: </span>                                                                                                    <span style=\"color: #008000; text-decoration-color: #008000\">│</span>\n",
       "<span style=\"color: #008000; text-decoration-color: #008000\">│</span>                                                                                                                 <span style=\"color: #008000; text-decoration-color: #008000\">│</span>\n",
       "<span style=\"color: #008000; text-decoration-color: #008000\">│</span>                                                                                                                 <span style=\"color: #008000; text-decoration-color: #008000\">│</span>\n",
       "<span style=\"color: #008000; text-decoration-color: #008000\">╰─────────────────────────────────────────────────────────────────────────────────────────────────────────────────╯</span>\n",
       "</pre>\n"
      ]
     },
     "metadata": {},
     "output_type": "display_data"
    },
    {
     "data": {
      "text/plain": [
       "\n"
      ],
      "text/html": [
       "<pre style=\"white-space:pre;overflow-x:auto;line-height:normal;font-family:Menlo,'DejaVu Sans Mono',consolas,'Courier New',monospace\">\n",
       "</pre>\n"
      ]
     },
     "metadata": {},
     "output_type": "display_data"
    },
    {
     "data": {
      "text/plain": [
       "\u001B[32m╭─\u001B[0m\u001B[32m───────────────────────────────────────────────\u001B[0m\u001B[32m Crew Completion \u001B[0m\u001B[32m───────────────────────────────────────────────\u001B[0m\u001B[32m─╮\u001B[0m\n",
       "\u001B[32m│\u001B[0m                                                                                                                 \u001B[32m│\u001B[0m\n",
       "\u001B[32m│\u001B[0m  \u001B[1;32mCrew Execution Completed\u001B[0m                                                                                       \u001B[32m│\u001B[0m\n",
       "\u001B[32m│\u001B[0m  \u001B[37mName: \u001B[0m\u001B[32mcrew\u001B[0m                                                                                                     \u001B[32m│\u001B[0m\n",
       "\u001B[32m│\u001B[0m  \u001B[37mID: \u001B[0m\u001B[32ma4c0e0ae-f3e3-4137-b028-6c5e4b7f0f4d\u001B[0m                                                                       \u001B[32m│\u001B[0m\n",
       "\u001B[32m│\u001B[0m  \u001B[37mTool Args: \u001B[0m                                                                                                    \u001B[32m│\u001B[0m\n",
       "\u001B[32m│\u001B[0m  \u001B[37mFinal Output: ```email\u001B[0m                                                                                         \u001B[32m│\u001B[0m\n",
       "\u001B[32m│\u001B[0m  \u001B[37mSubject: Demo Readiness and Next Steps\u001B[0m                                                                         \u001B[32m│\u001B[0m\n",
       "\u001B[32m│\u001B[0m                                                                                                                 \u001B[32m│\u001B[0m\n",
       "\u001B[32m│\u001B[0m  \u001B[37mDear Team,\u001B[0m                                                                                                     \u001B[32m│\u001B[0m\n",
       "\u001B[32m│\u001B[0m                                                                                                                 \u001B[32m│\u001B[0m\n",
       "\u001B[32m│\u001B[0m  \u001B[37mI am writing to provide an update on the demo. While it is nearing completion, there are still some \u001B[0m           \u001B[32m│\u001B[0m\n",
       "\u001B[32m│\u001B[0m  \u001B[37moutstanding items.\u001B[0m                                                                                             \u001B[32m│\u001B[0m\n",
       "\u001B[32m│\u001B[0m                                                                                                                 \u001B[32m│\u001B[0m\n",
       "\u001B[32m│\u001B[0m  \u001B[37mI propose that we present the current version of the demo, clearly indicating that the remaining features are\u001B[0m  \u001B[32m│\u001B[0m\n",
       "\u001B[32m│\u001B[0m  \u001B[37mwork in progress (WIP). This will allow stakeholders to see the progress we have made and provide valuable \u001B[0m    \u001B[32m│\u001B[0m\n",
       "\u001B[32m│\u001B[0m  \u001B[37mfeedback.\u001B[0m                                                                                                      \u001B[32m│\u001B[0m\n",
       "\u001B[32m│\u001B[0m                                                                                                                 \u001B[32m│\u001B[0m\n",
       "\u001B[32m│\u001B[0m  \u001B[37mPlease let me know your thoughts on this approach.\u001B[0m                                                             \u001B[32m│\u001B[0m\n",
       "\u001B[32m│\u001B[0m                                                                                                                 \u001B[32m│\u001B[0m\n",
       "\u001B[32m│\u001B[0m  \u001B[37mThank you,\u001B[0m                                                                                                     \u001B[32m│\u001B[0m\n",
       "\u001B[32m│\u001B[0m                                                                                                                 \u001B[32m│\u001B[0m\n",
       "\u001B[32m│\u001B[0m  \u001B[37m[Your Name]\u001B[0m                                                                                                    \u001B[32m│\u001B[0m\n",
       "\u001B[32m│\u001B[0m  \u001B[37m```\u001B[0m                                                                                                            \u001B[32m│\u001B[0m\n",
       "\u001B[32m│\u001B[0m                                                                                                                 \u001B[32m│\u001B[0m\n",
       "\u001B[32m│\u001B[0m                                                                                                                 \u001B[32m│\u001B[0m\n",
       "\u001B[32m╰─────────────────────────────────────────────────────────────────────────────────────────────────────────────────╯\u001B[0m\n"
      ],
      "text/html": [
       "<pre style=\"white-space:pre;overflow-x:auto;line-height:normal;font-family:Menlo,'DejaVu Sans Mono',consolas,'Courier New',monospace\"><span style=\"color: #008000; text-decoration-color: #008000\">╭──────────────────────────────────────────────── Crew Completion ────────────────────────────────────────────────╮</span>\n",
       "<span style=\"color: #008000; text-decoration-color: #008000\">│</span>                                                                                                                 <span style=\"color: #008000; text-decoration-color: #008000\">│</span>\n",
       "<span style=\"color: #008000; text-decoration-color: #008000\">│</span>  <span style=\"color: #008000; text-decoration-color: #008000; font-weight: bold\">Crew Execution Completed</span>                                                                                       <span style=\"color: #008000; text-decoration-color: #008000\">│</span>\n",
       "<span style=\"color: #008000; text-decoration-color: #008000\">│</span>  <span style=\"color: #c0c0c0; text-decoration-color: #c0c0c0\">Name: </span><span style=\"color: #008000; text-decoration-color: #008000\">crew</span>                                                                                                     <span style=\"color: #008000; text-decoration-color: #008000\">│</span>\n",
       "<span style=\"color: #008000; text-decoration-color: #008000\">│</span>  <span style=\"color: #c0c0c0; text-decoration-color: #c0c0c0\">ID: </span><span style=\"color: #008000; text-decoration-color: #008000\">a4c0e0ae-f3e3-4137-b028-6c5e4b7f0f4d</span>                                                                       <span style=\"color: #008000; text-decoration-color: #008000\">│</span>\n",
       "<span style=\"color: #008000; text-decoration-color: #008000\">│</span>  <span style=\"color: #c0c0c0; text-decoration-color: #c0c0c0\">Tool Args: </span>                                                                                                    <span style=\"color: #008000; text-decoration-color: #008000\">│</span>\n",
       "<span style=\"color: #008000; text-decoration-color: #008000\">│</span>  <span style=\"color: #c0c0c0; text-decoration-color: #c0c0c0\">Final Output: ```email</span>                                                                                         <span style=\"color: #008000; text-decoration-color: #008000\">│</span>\n",
       "<span style=\"color: #008000; text-decoration-color: #008000\">│</span>  <span style=\"color: #c0c0c0; text-decoration-color: #c0c0c0\">Subject: Demo Readiness and Next Steps</span>                                                                         <span style=\"color: #008000; text-decoration-color: #008000\">│</span>\n",
       "<span style=\"color: #008000; text-decoration-color: #008000\">│</span>                                                                                                                 <span style=\"color: #008000; text-decoration-color: #008000\">│</span>\n",
       "<span style=\"color: #008000; text-decoration-color: #008000\">│</span>  <span style=\"color: #c0c0c0; text-decoration-color: #c0c0c0\">Dear Team,</span>                                                                                                     <span style=\"color: #008000; text-decoration-color: #008000\">│</span>\n",
       "<span style=\"color: #008000; text-decoration-color: #008000\">│</span>                                                                                                                 <span style=\"color: #008000; text-decoration-color: #008000\">│</span>\n",
       "<span style=\"color: #008000; text-decoration-color: #008000\">│</span>  <span style=\"color: #c0c0c0; text-decoration-color: #c0c0c0\">I am writing to provide an update on the demo. While it is nearing completion, there are still some </span>           <span style=\"color: #008000; text-decoration-color: #008000\">│</span>\n",
       "<span style=\"color: #008000; text-decoration-color: #008000\">│</span>  <span style=\"color: #c0c0c0; text-decoration-color: #c0c0c0\">outstanding items.</span>                                                                                             <span style=\"color: #008000; text-decoration-color: #008000\">│</span>\n",
       "<span style=\"color: #008000; text-decoration-color: #008000\">│</span>                                                                                                                 <span style=\"color: #008000; text-decoration-color: #008000\">│</span>\n",
       "<span style=\"color: #008000; text-decoration-color: #008000\">│</span>  <span style=\"color: #c0c0c0; text-decoration-color: #c0c0c0\">I propose that we present the current version of the demo, clearly indicating that the remaining features are</span>  <span style=\"color: #008000; text-decoration-color: #008000\">│</span>\n",
       "<span style=\"color: #008000; text-decoration-color: #008000\">│</span>  <span style=\"color: #c0c0c0; text-decoration-color: #c0c0c0\">work in progress (WIP). This will allow stakeholders to see the progress we have made and provide valuable </span>    <span style=\"color: #008000; text-decoration-color: #008000\">│</span>\n",
       "<span style=\"color: #008000; text-decoration-color: #008000\">│</span>  <span style=\"color: #c0c0c0; text-decoration-color: #c0c0c0\">feedback.</span>                                                                                                      <span style=\"color: #008000; text-decoration-color: #008000\">│</span>\n",
       "<span style=\"color: #008000; text-decoration-color: #008000\">│</span>                                                                                                                 <span style=\"color: #008000; text-decoration-color: #008000\">│</span>\n",
       "<span style=\"color: #008000; text-decoration-color: #008000\">│</span>  <span style=\"color: #c0c0c0; text-decoration-color: #c0c0c0\">Please let me know your thoughts on this approach.</span>                                                             <span style=\"color: #008000; text-decoration-color: #008000\">│</span>\n",
       "<span style=\"color: #008000; text-decoration-color: #008000\">│</span>                                                                                                                 <span style=\"color: #008000; text-decoration-color: #008000\">│</span>\n",
       "<span style=\"color: #008000; text-decoration-color: #008000\">│</span>  <span style=\"color: #c0c0c0; text-decoration-color: #c0c0c0\">Thank you,</span>                                                                                                     <span style=\"color: #008000; text-decoration-color: #008000\">│</span>\n",
       "<span style=\"color: #008000; text-decoration-color: #008000\">│</span>                                                                                                                 <span style=\"color: #008000; text-decoration-color: #008000\">│</span>\n",
       "<span style=\"color: #008000; text-decoration-color: #008000\">│</span>  <span style=\"color: #c0c0c0; text-decoration-color: #c0c0c0\">[Your Name]</span>                                                                                                    <span style=\"color: #008000; text-decoration-color: #008000\">│</span>\n",
       "<span style=\"color: #008000; text-decoration-color: #008000\">│</span>  <span style=\"color: #c0c0c0; text-decoration-color: #c0c0c0\">```</span>                                                                                                            <span style=\"color: #008000; text-decoration-color: #008000\">│</span>\n",
       "<span style=\"color: #008000; text-decoration-color: #008000\">│</span>                                                                                                                 <span style=\"color: #008000; text-decoration-color: #008000\">│</span>\n",
       "<span style=\"color: #008000; text-decoration-color: #008000\">│</span>                                                                                                                 <span style=\"color: #008000; text-decoration-color: #008000\">│</span>\n",
       "<span style=\"color: #008000; text-decoration-color: #008000\">╰─────────────────────────────────────────────────────────────────────────────────────────────────────────────────╯</span>\n",
       "</pre>\n"
      ]
     },
     "metadata": {},
     "output_type": "display_data"
    },
    {
     "data": {
      "text/plain": [
       "\n"
      ],
      "text/html": [
       "<pre style=\"white-space:pre;overflow-x:auto;line-height:normal;font-family:Menlo,'DejaVu Sans Mono',consolas,'Courier New',monospace\">\n",
       "</pre>\n"
      ]
     },
     "metadata": {},
     "output_type": "display_data"
    },
    {
     "name": "stdout",
     "output_type": "stream",
     "text": [
      "```email\n",
      "Subject: Demo Readiness and Next Steps\n",
      "\n",
      "Dear Team,\n",
      "\n",
      "I am writing to provide an update on the demo. While it is nearing completion, there are still some outstanding items.\n",
      "\n",
      "I propose that we present the current version of the demo, clearly indicating that the remaining features are work in progress (WIP). This will allow stakeholders to see the progress we have made and provide valuable feedback.\n",
      "\n",
      "Please let me know your thoughts on this approach.\n",
      "\n",
      "Thank you,\n",
      "\n",
      "[Your Name]\n",
      "```\n"
     ]
    }
   ],
   "execution_count": 10
  },
  {
   "metadata": {},
   "cell_type": "code",
   "outputs": [],
   "execution_count": null,
   "source": "",
   "id": "d502e332c574036a"
  }
 ],
 "metadata": {
  "kernelspec": {
   "display_name": "Python 3",
   "language": "python",
   "name": "python3"
  },
  "language_info": {
   "codemirror_mode": {
    "name": "ipython",
    "version": 2
   },
   "file_extension": ".py",
   "mimetype": "text/x-python",
   "name": "python",
   "nbconvert_exporter": "python",
   "pygments_lexer": "ipython2",
   "version": "2.7.6"
  }
 },
 "nbformat": 4,
 "nbformat_minor": 5
}
